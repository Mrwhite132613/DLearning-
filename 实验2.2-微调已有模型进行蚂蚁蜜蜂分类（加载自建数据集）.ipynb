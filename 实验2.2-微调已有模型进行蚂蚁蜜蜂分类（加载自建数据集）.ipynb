{
 "cells": [
  {
   "cell_type": "markdown",
   "metadata": {},
   "source": [
    "## 内容二：蚂蚁蜜蜂分类\n",
    "\n",
    "- **torchvision.datasets.ImageFolder加载自建数据集**\n",
    "\n",
    "- **很多时候当我们训练一个新的图像分类任务，我们不会完全从一个随机的模型开始训练，而是利用预训练的模型来加速训练的过程。我们经常使用在ImageNet上的预训练模型**\n",
    "- 有两种方法做迁移学习\n",
    "    - finetuning：从一个预训练模型开始，改变一些模型的架构，然后继续训练整个模型的参数；\n",
    "    - feature extraction：不改变预训练模型的参数，只更新我们改变过的部分模型参数。（当成特征提取器来使用）**"
   ]
  },
  {
   "cell_type": "markdown",
   "metadata": {},
   "source": [
    "-  **Pytorch：torchvision.datasets.ImageFolder**\n",
    "    - (root, transform=None, target_transform=None, loader=<function default_loader>,is_valid_file=None)\n"
   ]
  },
  {
   "cell_type": "markdown",
   "metadata": {},
   "source": [
    " \n",
    "- 参数详解：\n",
    "\n",
    "root：图片存储的根目录，即各类别文件夹所在目录的上一级目录。\n",
    "\n",
    "transform：对图片进行预处理的操作（函数），原始图片作为输入，返回一个转换后的图片。\n",
    "\n",
    "target_transform：对图片类别进行预处理的操作，输入为 target，输出对其的转换。如果不传该参数，即对 target 不做任何转换，返回的顺序索引 0,1, 2…\n",
    "\n",
    "loader：表示数据集加载方式，通常默认加载方式即可。\n",
    "\n",
    "is_valid_file：获取图像文件的路径并检查该文件是否为有效文件的函数(用于检查损坏文件)\n",
    "\n",
    "返回的dataset都有以下三种属性：\n",
    "\n",
    "self.classes：用一个 list 保存类别名称\n",
    "\n",
    "self.class_to_idx：类别对应的索引，与不做任何转换返回的 target 对应\n",
    "\n",
    "self.imgs：保存(img-path, class) tuple的 list\n",
    "\n",
    "版权声明：本文为CSDN博主「万能的小黑Alex」的原创文章，遵循CC 4.0 BY-SA版权协议，转载请附上原文出处链接及本声明。\n",
    "原文链接：https://blog.csdn.net/qq_39507748/article/details/105394808"
   ]
  },
  {
   "cell_type": "markdown",
   "metadata": {},
   "source": [
    "- **Pytorch：transforms的二十二个方法**\n",
    "    - https://blog.csdn.net/weixin_38533896/article/details/86028509"
   ]
  },
  {
   "cell_type": "code",
   "execution_count": 35,
   "metadata": {},
   "outputs": [],
   "source": [
    "# 导入必要的包\n",
    "import numpy as np\n",
    "import torch\n",
    "import torchvision \n",
    "import matplotlib.pyplot as plt\n",
    "import torch.nn.functional as F\n",
    "import torch.nn as nn\n",
    "import torch.optim as optim\n",
    "import time\n",
    "import os\n",
    "# import torch.utils.data as tud\n",
    "\n",
    "from torchvision.datasets import ImageFolder\n",
    "from torch.optim import lr_scheduler\n",
    "from torchvision import datasets, models, transforms\n",
    "import copy"
   ]
  },
  {
   "cell_type": "markdown",
   "metadata": {},
   "source": [
    "### 观测数据start"
   ]
  },
  {
   "cell_type": "code",
   "execution_count": 50,
   "metadata": {},
   "outputs": [
    {
     "data": {
      "text/plain": [
       "Dataset ImageFolder\n",
       "    Number of datapoints: 244\n",
       "    Root location: ./hymenoptera_data/train\n",
       "    StandardTransform\n",
       "Transform: Compose(\n",
       "               RandomCrop(size=(180, 180), padding=None)\n",
       "               RandomHorizontalFlip(p=0.5)\n",
       "               ToTensor()\n",
       "               Normalize(mean=[0.5, 0.5, 0.5], std=[0.5, 0.5, 0.5])\n",
       "           )"
      ]
     },
     "execution_count": 50,
     "metadata": {},
     "output_type": "execute_result"
    }
   ],
   "source": [
    "from torchvision.datasets import ImageFolder\n",
    "from torchvision import transforms\n",
    "\n",
    "#加上transforms\n",
    "normalize=transforms.Normalize(mean=[.5,.5,.5],std=[.5,.5,.5])\n",
    "transform=transforms.Compose([\n",
    "    transforms.RandomCrop(180),\n",
    "    transforms.RandomHorizontalFlip(),\n",
    "    transforms.ToTensor(), #将图片转换为Tensor,归一化至[0,1]\n",
    "    normalize\n",
    "])\n",
    "\n",
    "dataset=ImageFolder('./hymenoptera_data/train',transform=transform)\n",
    "dataset"
   ]
  },
  {
   "cell_type": "code",
   "execution_count": 33,
   "metadata": {},
   "outputs": [
    {
     "name": "stdout",
     "output_type": "stream",
     "text": [
      "244\n",
      "--------------------------------------------------------------------------------\n",
      "['ants', 'bees']\n",
      "--------------------------------------------------------------------------------\n",
      "{'ants': 0, 'bees': 1}\n",
      "--------------------------------------------------------------------------------\n",
      "('./hymenoptera_data/train\\\\ants\\\\0013035.jpg', 0)\n",
      "('./hymenoptera_data/train\\\\ants\\\\1030023514_aad5c608f9.jpg', 0)\n",
      "('./hymenoptera_data/train\\\\ants\\\\1095476100_3906d8afde.jpg', 0)\n",
      "('./hymenoptera_data/train\\\\ants\\\\1099452230_d1949d3250.jpg', 0)\n",
      "('./hymenoptera_data/train\\\\ants\\\\116570827_e9c126745d.jpg', 0)\n",
      "\n",
      "torch.Size([3, 180, 180])\n",
      "3\n"
     ]
    }
   ],
   "source": [
    "print(len(dataset))\n",
    "print(\"-\"*80)\n",
    "print(dataset.classes)  #根据分的文件夹的名字来确定的类别\n",
    "print(\"-\"*80)\n",
    "print(dataset.class_to_idx) #按顺序为这些类别定义索引为0,1...\n",
    "print(\"-\"*80)\n",
    "for i in range(5):\n",
    "    print(dataset.imgs[i]) #返回从所有文件夹中得到的图片的路径以及其类别\n",
    "print()\n",
    "print(dataset[0][0].size())#去除类别后的tensor就可以看维度了 （3, 180, 180）\n",
    "print(len(dataset[0][0]))\n"
   ]
  },
  {
   "cell_type": "markdown",
   "metadata": {},
   "source": [
    "### 观测数据end"
   ]
  },
  {
   "cell_type": "code",
   "execution_count": 7,
   "metadata": {},
   "outputs": [],
   "source": [
    "ImageFolder?"
   ]
  },
  {
   "cell_type": "markdown",
   "metadata": {},
   "source": [
    "## 正式部分"
   ]
  },
  {
   "cell_type": "code",
   "execution_count": 49,
   "metadata": {},
   "outputs": [
    {
     "data": {
      "text/plain": [
       "{'train': Dataset ImageFolder\n",
       "     Number of datapoints: 244\n",
       "     Root location: hymenoptera_data\\train\n",
       "     StandardTransform\n",
       " Transform: Compose(\n",
       "                RandomResizedCrop(size=(224, 224), scale=(0.08, 1.0), ratio=(0.75, 1.3333), interpolation=PIL.Image.BILINEAR)\n",
       "                RandomHorizontalFlip(p=0.5)\n",
       "                ToTensor()\n",
       "            ),\n",
       " 'val': Dataset ImageFolder\n",
       "     Number of datapoints: 153\n",
       "     Root location: hymenoptera_data\\val\n",
       "     StandardTransform\n",
       " Transform: Compose(\n",
       "                Resize(size=256, interpolation=PIL.Image.BILINEAR)\n",
       "                CenterCrop(size=(224, 224))\n",
       "                ToTensor()\n",
       "            )}"
      ]
     },
     "execution_count": 49,
     "metadata": {},
     "output_type": "execute_result"
    }
   ],
   "source": [
    "# Data augmentation and normalization for training：训练数据的扩充和归一化\n",
    "# Just normalization for validation 只是验证时标准化\n",
    "data_transforms = {\n",
    "    'train': transforms.Compose([\n",
    "        transforms.RandomResizedCrop(224),#随机长宽比裁剪,224是输出的分辨率\n",
    "        transforms.RandomHorizontalFlip(),#依据概率p对PIL图片进行水平翻转，默认值0.5\n",
    "        transforms.ToTensor()#将PIL Image或者 ndarray 转换为tensor，并且归一化至[0-1]\n",
    "    ]),\n",
    "    'val': transforms.Compose([\n",
    "        transforms.Resize(256),# 重置图像分辨率\n",
    "        transforms.CenterCrop(224),# 依据给定的size从中心裁剪 224*224\n",
    "        transforms.ToTensor()\n",
    "    ]),\n",
    "}\n",
    "#获得数据生成器，以字典的形式保存。\n",
    "data_dir = 'hymenoptera_data'# 指定文件源dir\n",
    "image_datasets = {x: datasets.ImageFolder(os.path.join(data_dir, x),data_transforms[x])for x in ['train', 'val']}\n",
    "#os.path.join(data_dir, x)把目录和文件名合成一个路径\n",
    "dataloaders = {x: torch.utils.data.DataLoader(image_datasets[x], batch_size=4,shuffle=True, num_workers=4)for x in ['train', 'val']}\n",
    "image_datasets#查看数据datasets"
   ]
  },
  {
   "cell_type": "code",
   "execution_count": 55,
   "metadata": {},
   "outputs": [
    {
     "name": "stdout",
     "output_type": "stream",
     "text": [
      "2\n",
      "--------------------------------------------------------------------------------\n",
      "['ants', 'bees']\n",
      "--------------------------------------------------------------------------------\n",
      "{'ants': 0, 'bees': 1}\n",
      "--------------------------------------------------------------------------------\n",
      "('hymenoptera_data\\\\train\\\\ants\\\\0013035.jpg', 0)\n",
      "('hymenoptera_data\\\\train\\\\ants\\\\1030023514_aad5c608f9.jpg', 0)\n",
      "('hymenoptera_data\\\\train\\\\ants\\\\1095476100_3906d8afde.jpg', 0)\n",
      "('hymenoptera_data\\\\train\\\\ants\\\\1099452230_d1949d3250.jpg', 0)\n",
      "('hymenoptera_data\\\\train\\\\ants\\\\116570827_e9c126745d.jpg', 0)\n",
      "\n",
      "torch.Size([3, 224, 224])\n",
      "3\n"
     ]
    }
   ],
   "source": [
    "\"\"\"\n",
    "print(len(image_datasets))#image_datasets包含训练和验证集\n",
    "print(\"-\"*80)\n",
    "print(image_datasets['train'].classes) ## 上面的加载方式是字典，所以需要分开观测\n",
    "#根据分的文件夹的名字来确定的类别\n",
    "print(\"-\"*80)\n",
    "print(image_datasets['train'].class_to_idx) #按顺序为这些类别定义索引为0,1...\n",
    "print(\"-\"*80)\n",
    "for i in range(5):\n",
    "     print(image_datasets['train'].imgs[i]) #返回从所有文件夹中得到的图片的路径以及其类别\n",
    "print()\n",
    "\n",
    "# 查看图像通道数和维度\n",
    "print(image_datasets['train'][0][0].size())#去除类别后的tensor就可以看维度了 （3, 180, 180）\n",
    "print(len(image_datasets['train'][0][0]))\n",
    "\n",
    "\"\"\""
   ]
  },
  {
   "cell_type": "code",
   "execution_count": 70,
   "metadata": {},
   "outputs": [
    {
     "name": "stdout",
     "output_type": "stream",
     "text": [
      "{'train': 244, 'val': 153}\n",
      "['ants', 'bees']\n"
     ]
    },
    {
     "data": {
      "image/png": "[encoded data removed]",
      "text/plain": [
       "<Figure size 432x288 with 1 Axes>"
      ]
     },
     "metadata": {
      "needs_background": "light"
     },
     "output_type": "display_data"
    }
   ],
   "source": [
    "#选择1个batch的训练数据进行可视化\n",
    "def imshow(inp, title=None):\n",
    "    #\"\"\"Imshow for Tensor.\"\"\"\n",
    "    inp = inp.numpy().transpose((1, 2, 0))\n",
    "    inp = np.clip(inp, 0, 1)\n",
    "    plt.imshow(inp)\n",
    "    if title is not None:\n",
    "        plt.title(title)\n",
    "\n",
    "dataset_sizes = {x: len(image_datasets[x]) for x in ['train', 'val']}\n",
    "print(dataset_sizes)\n",
    "# print(dataset_sizes)#{'train': 244, 'val': 153} 查看训练集和测试集的数量\n",
    "class_names = image_datasets['train'].classes# 取训练集的类别名\n",
    "print(class_names)\n",
    "# Get a batch of training data\n",
    "inputs, classes = next(iter(dataloaders['train']))\n",
    "# Make a grid from batch\n",
    "out = torchvision.utils.make_grid(inputs,padding=8)#make_grid的作用是将若干幅图像拼成一幅图像。其中padding的作用就是子图像与子图像之间的pad有多宽。\n",
    "imshow(out, title=[class_names[x] for x in classes])\n",
    "plt.show()"
   ]
  },
  {
   "cell_type": "markdown",
   "metadata": {},
   "source": [
    "### 定义网络"
   ]
  },
  {
   "cell_type": "code",
   "execution_count": null,
   "metadata": {},
   "outputs": [],
   "source": [
    "# format\n",
    "def initalize_model(model_name,num_class,use_pretrained=True ,feature_extract=True):\n",
    "    if model_name ==\"resnet18\":\n",
    "        model_ft= models.resnet18(pretrain=use_pretrained)\n",
    "        if feature_extract:\n",
    "            for parm in model_ft.parameters():\n",
    "                parm.requires_grad="
   ]
  },
  {
   "cell_type": "code",
   "execution_count": 71,
   "metadata": {},
   "outputs": [],
   "source": [
    "# 训练模型函数，参数scheduler是一个 torch.optim.lr_scheduler 学习速率调整类对象\n",
    "def train_model(model, criterion, optimizer, scheduler, num_epochs=2):\n",
    "    since = time.time()# 生成timestamp时间戳，时间戳表示的是从1970年1月1日00:00:00开始按秒计算的偏移量\n",
    "\n",
    "    best_model_wts = copy.deepcopy(model.state_dict())\n",
    "    best_acc = 0.0\n",
    "\n",
    "    for epoch in range(num_epochs):\n",
    "        print('-' * 20)\n",
    "        print('Epoch {}/{}'.format(epoch+1, num_epochs))\n",
    "\n",
    "        # 每个epoch都有一个训练和验证阶段\n",
    "        for phase in ['train', 'val']:\n",
    "            if phase == 'train':\n",
    "                model.train()   # 训练模式\n",
    "            else:\n",
    "                model.eval()    # 验证模式\n",
    "\n",
    "            running_loss = 0.0\n",
    "            running_corrects = 0\n",
    "\n",
    "            for inputs, labels in dataloaders[phase]:\n",
    "                inputs = inputs.to(device)#数据移到GPU\n",
    "                labels = labels.to(device)\n",
    "\n",
    "                # 训练阶段开启梯度跟踪\n",
    "                with torch.set_grad_enabled(phase == 'train'):\n",
    "                    outputs = model(inputs)\n",
    "                    _, preds = torch.max(outputs, 1)\n",
    "                    loss = criterion(outputs, labels)\n",
    "\n",
    "                    # 仅在训练阶段进行后向+优化\n",
    "                    if phase == 'train':\n",
    "                        optimizer.zero_grad()\n",
    "                        loss.backward()\n",
    "                        optimizer.step()\n",
    "                        scheduler.step()\n",
    "\n",
    "                # 统计\n",
    "                running_loss += loss.item() * inputs.size(0)\n",
    "                running_corrects += torch.sum(preds == labels.data)\n",
    "\n",
    "            epoch_loss = running_loss / dataset_sizes[phase]\n",
    "            epoch_acc = running_corrects.double() / dataset_sizes[phase]\n",
    "\n",
    "            print('{} Loss: {:.4f} Acc: {:.4f}'.format(phase, epoch_loss, epoch_acc))\n",
    "\n",
    "            # 记录最好的状态\n",
    "            if phase == 'val' and epoch_acc > best_acc:\n",
    "                best_acc = epoch_acc\n",
    "                best_model_wts = copy.deepcopy(model.state_dict())\n",
    "\n",
    "    print('-' * 20)\n",
    "    time_elapsed = time.time() - since\n",
    "    print('Training complete in {:.0f}m {:.0f}s'.format(time_elapsed//60, time_elapsed%60))\n",
    "    print('Best val Acc: {:4f}'.format(best_acc))\n",
    "\n",
    "    # 返回最佳参数的模型\n",
    "    model.load_state_dict(best_model_wts)\n",
    "    return model\n"
   ]
  },
  {
   "cell_type": "code",
   "execution_count": 73,
   "metadata": {},
   "outputs": [
    {
     "name": "stdout",
     "output_type": "stream",
     "text": [
      "--------------------\n",
      "Epoch 1/10\n",
      "train Loss: 0.6766 Acc: 0.5697\n",
      "val Loss: 0.6894 Acc: 0.5359\n",
      "--------------------\n",
      "Epoch 2/10\n",
      "train Loss: 0.6653 Acc: 0.5779\n",
      "val Loss: 0.6642 Acc: 0.5948\n",
      "--------------------\n",
      "Epoch 3/10\n",
      "train Loss: 0.6406 Acc: 0.6148\n",
      "val Loss: 0.7017 Acc: 0.5294\n",
      "--------------------\n",
      "Epoch 4/10\n",
      "train Loss: 0.6593 Acc: 0.5779\n",
      "val Loss: 0.6887 Acc: 0.5359\n",
      "--------------------\n",
      "Epoch 5/10\n",
      "train Loss: 0.6471 Acc: 0.6270\n",
      "val Loss: 0.6761 Acc: 0.5556\n",
      "--------------------\n",
      "Epoch 6/10\n",
      "train Loss: 0.6705 Acc: 0.5574\n",
      "val Loss: 0.6795 Acc: 0.5686\n",
      "--------------------\n",
      "Epoch 7/10\n",
      "train Loss: 0.6753 Acc: 0.5328\n",
      "val Loss: 0.6542 Acc: 0.6209\n",
      "--------------------\n",
      "Epoch 8/10\n",
      "train Loss: 0.6438 Acc: 0.6025\n",
      "val Loss: 0.6785 Acc: 0.5752\n",
      "--------------------\n",
      "Epoch 9/10\n",
      "train Loss: 0.6433 Acc: 0.5902\n",
      "val Loss: 0.6610 Acc: 0.6144\n",
      "--------------------\n",
      "Epoch 10/10\n",
      "train Loss: 0.6591 Acc: 0.5738\n",
      "val Loss: 0.6541 Acc: 0.5882\n",
      "--------------------\n",
      "Training complete in 1m 57s\n",
      "Best val Acc: 0.620915\n"
     ]
    }
   ],
   "source": [
    "net = torchvision.models.resnet18(pretrained=True)     # 加载resnet网络结构和预训练参数\n",
    "num_ftrs = net.fc.in_features      # 提取fc层的输入参数\n",
    "net.fc = nn.Linear(num_ftrs, 2)    # 修改输出维度为2\n",
    "device = torch.device('cuda:0' if torch.cuda.is_available() else 'cpu')\n",
    "net = net.to(device)\n",
    "\n",
    "# 使用分类交叉熵 Cross-Entropy 作损失函数，动量SGD做优化器\n",
    "criterion = nn.CrossEntropyLoss()\n",
    "optimizer = optim.SGD(net.parameters(), lr=0.001, momentum=0.9)\n",
    "\n",
    "# 每5个epochs衰减一次学习率 new_lr = old_lr * gamma ^ (epoch/step_size)\n",
    "lr_scheduler = optim.lr_scheduler.StepLR(optimizer, step_size=5, gamma=0.1)\n",
    "\n",
    "# 训练模型\n",
    "net = train_model(net, criterion, optimizer, lr_scheduler, num_epochs=10)\n"
   ]
  },
  {
   "cell_type": "code",
   "execution_count": 74,
   "metadata": {},
   "outputs": [
    {
     "name": "stdout",
     "output_type": "stream",
     "text": [
      "--------------------\n",
      "Epoch 1/20\n",
      "train Loss: 0.7167 Acc: 0.5246\n",
      "val Loss: 0.6972 Acc: 0.5490\n",
      "--------------------\n",
      "Epoch 2/20\n",
      "train Loss: 0.7263 Acc: 0.4877\n",
      "val Loss: 0.7023 Acc: 0.5817\n",
      "--------------------\n",
      "Epoch 3/20\n",
      "train Loss: 0.7495 Acc: 0.4467\n",
      "val Loss: 0.7203 Acc: 0.5425\n",
      "--------------------\n",
      "Epoch 4/20\n",
      "train Loss: 0.7334 Acc: 0.4795\n",
      "val Loss: 0.7049 Acc: 0.6209\n",
      "--------------------\n",
      "Epoch 5/20\n",
      "train Loss: 0.7197 Acc: 0.4754\n",
      "val Loss: 0.7061 Acc: 0.5490\n",
      "--------------------\n",
      "Epoch 6/20\n",
      "train Loss: 0.7281 Acc: 0.4672\n",
      "val Loss: 0.7191 Acc: 0.5229\n",
      "--------------------\n",
      "Epoch 7/20\n",
      "train Loss: 0.7330 Acc: 0.4877\n",
      "val Loss: 0.7128 Acc: 0.5229\n",
      "--------------------\n",
      "Epoch 8/20\n",
      "train Loss: 0.7251 Acc: 0.4877\n",
      "val Loss: 0.7090 Acc: 0.5294\n",
      "--------------------\n",
      "Epoch 9/20\n",
      "train Loss: 0.7115 Acc: 0.5123\n",
      "val Loss: 0.7095 Acc: 0.5556\n",
      "--------------------\n",
      "Epoch 10/20\n",
      "train Loss: 0.7238 Acc: 0.5246\n",
      "val Loss: 0.7154 Acc: 0.5359\n",
      "--------------------\n",
      "Epoch 11/20\n",
      "train Loss: 0.7162 Acc: 0.4918\n",
      "val Loss: 0.7180 Acc: 0.5033\n",
      "--------------------\n",
      "Epoch 12/20\n",
      "train Loss: 0.7189 Acc: 0.5164\n",
      "val Loss: 0.7253 Acc: 0.5163\n",
      "--------------------\n",
      "Epoch 13/20\n",
      "train Loss: 0.7329 Acc: 0.4836\n",
      "val Loss: 0.7242 Acc: 0.5294\n",
      "--------------------\n",
      "Epoch 14/20\n",
      "train Loss: 0.7255 Acc: 0.4754\n",
      "val Loss: 0.7089 Acc: 0.5948\n",
      "--------------------\n",
      "Epoch 15/20\n",
      "train Loss: 0.7328 Acc: 0.4918\n",
      "val Loss: 0.7126 Acc: 0.5621\n",
      "--------------------\n",
      "Epoch 16/20\n",
      "train Loss: 0.7350 Acc: 0.4672\n",
      "val Loss: 0.7242 Acc: 0.5229\n",
      "--------------------\n",
      "Epoch 17/20\n",
      "train Loss: 0.7321 Acc: 0.5082\n",
      "val Loss: 0.7205 Acc: 0.5556\n",
      "--------------------\n",
      "Epoch 18/20\n",
      "train Loss: 0.7269 Acc: 0.5369\n",
      "val Loss: 0.7144 Acc: 0.5686\n",
      "--------------------\n",
      "Epoch 19/20\n",
      "train Loss: 0.7164 Acc: 0.5205\n",
      "val Loss: 0.7150 Acc: 0.5163\n",
      "--------------------\n",
      "Epoch 20/20\n",
      "train Loss: 0.7226 Acc: 0.5205\n",
      "val Loss: 0.7127 Acc: 0.5882\n",
      "--------------------\n",
      "Training complete in 3m 25s\n",
      "Best val Acc: 0.620915\n"
     ]
    }
   ],
   "source": [
    "net = torchvision.models.resnet18(pretrained=True)\n",
    "# 通过设置requires_grad = False来冻结参数，这样在反向传播的时候他们的梯度就不会被计算\n",
    "for param in net.parameters():\n",
    "    param.requires_grad = False\n",
    "\n",
    "# 新连接层参数默认requires_grad=True\n",
    "num_ftrs = net.fc.in_features\n",
    "net.fc = nn.Linear(num_ftrs, 2)\n",
    "\n",
    "net = net.to(device)\n",
    "\n",
    "criterion = nn.CrossEntropyLoss()\n",
    "optimizer = optim.SGD(net.fc.parameters(), lr=0.001, momentum=0.9)\n",
    "lr_scheduler = optim.lr_scheduler.StepLR(optimizer, step_size=5, gamma=0.1)\n",
    "\n",
    "net = train_model(net, criterion, optimizer, lr_scheduler, num_epochs=20)\n"
   ]
  },
  {
   "cell_type": "code",
   "execution_count": null,
   "metadata": {},
   "outputs": [],
   "source": []
  }
 ],
 "metadata": {
  "kernelspec": {
   "display_name": "Python 3",
   "language": "python",
   "name": "python3"
  },
  "language_info": {
   "codemirror_mode": {
    "name": "ipython",
    "version": 3
   },
   "file_extension": ".py",
   "mimetype": "text/x-python",
   "name": "python",
   "nbconvert_exporter": "python",
   "pygments_lexer": "ipython3",
   "version": "3.7.6"
  }
 },
 "nbformat": 4,
 "nbformat_minor": 4
}
