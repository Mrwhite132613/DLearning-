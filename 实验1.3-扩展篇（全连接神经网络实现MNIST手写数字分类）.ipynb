{
 "cells": [
  {
   "cell_type": "markdown",
   "metadata": {},
   "source": [
    "## 2020-5-22  PyTorch 学习笔记（1）：多层全连接网络实现MNIST手写数字分类"
   ]
  },
  {
   "cell_type": "code",
   "execution_count": 1,
   "metadata": {},
   "outputs": [],
   "source": [
    "## 导入有关的包\n",
    "import torch\n",
    "import torchvision.datasets as dset\n",
    "from torch import nn,optim\n",
    "from torch.autograd import Variable\n",
    "from torch.utils.data import DataLoader\n",
    "from torchvision import datasets,transforms\n",
    "\n",
    "## 下载实验需要数据集\n",
    "root = ''\n",
    "train_set = dset.MNIST('root', train=True, download=True) # train为true表示读取训练集，false表示读取测试集，\n",
    "test_set = dset.MNIST('root', train=False, download=True) # download为True表示下载，为false表示从本地读取\n"
   ]
  },
  {
   "cell_type": "code",
   "execution_count": 2,
   "metadata": {},
   "outputs": [
    {
     "name": "stdout",
     "output_type": "stream",
     "text": [
      "train_data: torch.Size([60000, 28, 28])\n",
      "train_labels: torch.Size([60000])\n",
      "test_data: torch.Size([10000, 28, 28])\n",
      "train_data: tensor([[  0,   0,   0,   0,   0,   0,   0,   0,   0,   0,   0,   0,   0,   0,\n",
      "           0,   0,   0,   0,   0,   0,   0,   0,   0,   0,   0,   0,   0,   0],\n",
      "        [  0,   0,   0,   0,   0,   0,   0,   0,   0,   0,   0,   0,   0,   0,\n",
      "           0,   0,   0,   0,   0,   0,   0,   0,   0,   0,   0,   0,   0,   0],\n",
      "        [  0,   0,   0,   0,   0,   0,   0,   0,   0,   0,   0,   0,   0,   0,\n",
      "           0,   0,   0,   0,   0,   0,   0,   0,   0,   0,   0,   0,   0,   0],\n",
      "        [  0,   0,   0,   0,   0,   0,   0,   0,   0,   0,   0,   0,   0,   0,\n",
      "           0,   0,   0,   0,   0,   0,   0,   0,   0,   0,   0,   0,   0,   0],\n",
      "        [  0,   0,   0,   0,   0,   0,   0,   0,   0,   0,   0,   0,   0,   0,\n",
      "           0,   0,   0,   0,   0,   0,   0,   0,   0,   0,   0,   0,   0,   0],\n",
      "        [  0,   0,   0,   0,   0,   0,   0,   0,   0,   0,   0,   0,   0,   0,\n",
      "           0,   0,   0,   0,   0,   0,  67, 232,  39,   0,   0,   0,   0,   0],\n",
      "        [  0,   0,   0,   0,  62,  81,   0,   0,   0,   0,   0,   0,   0,   0,\n",
      "           0,   0,   0,   0,   0,   0, 120, 180,  39,   0,   0,   0,   0,   0],\n",
      "        [  0,   0,   0,   0, 126, 163,   0,   0,   0,   0,   0,   0,   0,   0,\n",
      "           0,   0,   0,   0,   0,   2, 153, 210,  40,   0,   0,   0,   0,   0],\n",
      "        [  0,   0,   0,   0, 220, 163,   0,   0,   0,   0,   0,   0,   0,   0,\n",
      "           0,   0,   0,   0,   0,  27, 254, 162,   0,   0,   0,   0,   0,   0],\n",
      "        [  0,   0,   0,   0, 222, 163,   0,   0,   0,   0,   0,   0,   0,   0,\n",
      "           0,   0,   0,   0,   0, 183, 254, 125,   0,   0,   0,   0,   0,   0],\n",
      "        [  0,   0,   0,  46, 245, 163,   0,   0,   0,   0,   0,   0,   0,   0,\n",
      "           0,   0,   0,   0,   0, 198, 254,  56,   0,   0,   0,   0,   0,   0],\n",
      "        [  0,   0,   0, 120, 254, 163,   0,   0,   0,   0,   0,   0,   0,   0,\n",
      "           0,   0,   0,   0,  23, 231, 254,  29,   0,   0,   0,   0,   0,   0],\n",
      "        [  0,   0,   0, 159, 254, 120,   0,   0,   0,   0,   0,   0,   0,   0,\n",
      "           0,   0,   0,   0, 163, 254, 216,  16,   0,   0,   0,   0,   0,   0],\n",
      "        [  0,   0,   0, 159, 254,  67,   0,   0,   0,   0,   0,   0,   0,   0,\n",
      "           0,  14,  86, 178, 248, 254,  91,   0,   0,   0,   0,   0,   0,   0],\n",
      "        [  0,   0,   0, 159, 254,  85,   0,   0,   0,  47,  49, 116, 144, 150,\n",
      "         241, 243, 234, 179, 241, 252,  40,   0,   0,   0,   0,   0,   0,   0],\n",
      "        [  0,   0,   0, 150, 253, 237, 207, 207, 207, 253, 254, 250, 240, 198,\n",
      "         143,  91,  28,   5, 233, 250,   0,   0,   0,   0,   0,   0,   0,   0],\n",
      "        [  0,   0,   0,   0, 119, 177, 177, 177, 177, 177,  98,  56,   0,   0,\n",
      "           0,   0,   0, 102, 254, 220,   0,   0,   0,   0,   0,   0,   0,   0],\n",
      "        [  0,   0,   0,   0,   0,   0,   0,   0,   0,   0,   0,   0,   0,   0,\n",
      "           0,   0,   0, 169, 254, 137,   0,   0,   0,   0,   0,   0,   0,   0],\n",
      "        [  0,   0,   0,   0,   0,   0,   0,   0,   0,   0,   0,   0,   0,   0,\n",
      "           0,   0,   0, 169, 254,  57,   0,   0,   0,   0,   0,   0,   0,   0],\n",
      "        [  0,   0,   0,   0,   0,   0,   0,   0,   0,   0,   0,   0,   0,   0,\n",
      "           0,   0,   0, 169, 254,  57,   0,   0,   0,   0,   0,   0,   0,   0],\n",
      "        [  0,   0,   0,   0,   0,   0,   0,   0,   0,   0,   0,   0,   0,   0,\n",
      "           0,   0,   0, 169, 255,  94,   0,   0,   0,   0,   0,   0,   0,   0],\n",
      "        [  0,   0,   0,   0,   0,   0,   0,   0,   0,   0,   0,   0,   0,   0,\n",
      "           0,   0,   0, 169, 254,  96,   0,   0,   0,   0,   0,   0,   0,   0],\n",
      "        [  0,   0,   0,   0,   0,   0,   0,   0,   0,   0,   0,   0,   0,   0,\n",
      "           0,   0,   0, 169, 254, 153,   0,   0,   0,   0,   0,   0,   0,   0],\n",
      "        [  0,   0,   0,   0,   0,   0,   0,   0,   0,   0,   0,   0,   0,   0,\n",
      "           0,   0,   0, 169, 255, 153,   0,   0,   0,   0,   0,   0,   0,   0],\n",
      "        [  0,   0,   0,   0,   0,   0,   0,   0,   0,   0,   0,   0,   0,   0,\n",
      "           0,   0,   0,  96, 254, 153,   0,   0,   0,   0,   0,   0,   0,   0],\n",
      "        [  0,   0,   0,   0,   0,   0,   0,   0,   0,   0,   0,   0,   0,   0,\n",
      "           0,   0,   0,   0,   0,   0,   0,   0,   0,   0,   0,   0,   0,   0],\n",
      "        [  0,   0,   0,   0,   0,   0,   0,   0,   0,   0,   0,   0,   0,   0,\n",
      "           0,   0,   0,   0,   0,   0,   0,   0,   0,   0,   0,   0,   0,   0],\n",
      "        [  0,   0,   0,   0,   0,   0,   0,   0,   0,   0,   0,   0,   0,   0,\n",
      "           0,   0,   0,   0,   0,   0,   0,   0,   0,   0,   0,   0,   0,   0]],\n",
      "       dtype=torch.uint8)\n",
      "train_labels: tensor(4)\n"
     ]
    },
    {
     "name": "stderr",
     "output_type": "stream",
     "text": [
      "C:\\Users\\28038\\anaconda3\\lib\\site-packages\\torchvision\\datasets\\mnist.py:55: UserWarning: train_data has been renamed data\n",
      "  warnings.warn(\"train_data has been renamed data\")\n",
      "C:\\Users\\28038\\anaconda3\\lib\\site-packages\\torchvision\\datasets\\mnist.py:45: UserWarning: train_labels has been renamed targets\n",
      "  warnings.warn(\"train_labels has been renamed targets\")\n",
      "C:\\Users\\28038\\anaconda3\\lib\\site-packages\\torchvision\\datasets\\mnist.py:60: UserWarning: test_data has been renamed data\n",
      "  warnings.warn(\"test_data has been renamed data\")\n"
     ]
    }
   ],
   "source": [
    "## 描述并查看数据集\n",
    "print(\"train_data:\", train_set.train_data.size())\n",
    "print(\"train_labels:\", train_set.train_labels.size())\n",
    "print(\"test_data:\", test_set.test_data.size())\n",
    "\n",
    "print(\"train_data:\", train_set.train_data[2])\n",
    "print(\"train_labels:\", train_set.train_labels[2])\n"
   ]
  },
  {
   "cell_type": "code",
   "execution_count": 3,
   "metadata": {},
   "outputs": [],
   "source": [
    "##显示数据集\n",
    "for i in range(5):\n",
    "    image,label = train_set[i]\n",
    "    path = 'C:\\\\Users\\\\28038\\\\NUDT-DL2020\\\\img\\\\{}-{}.png'.format(i,label)\n",
    "    image.save(path)"
   ]
  },
  {
   "cell_type": "markdown",
   "metadata": {},
   "source": [
    "## 实验部分1-数据部分"
   ]
  },
  {
   "cell_type": "markdown",
   "metadata": {},
   "source": [
    "#### 将图片转化为可处理的tensor数据\n",
    "在torchvision中提供了transforms用于帮我们对图片进行预处理和标准化。其中我们需要用到的有两个：ToTensor()和Normalize()。前者用于将图片转换成Tensor格式的数据，并且进行了标准化处理。后者用均值和标准偏差对张量图像进行归一化：给定均值: (M1,...,Mn) 和标准差: (S1,..,Sn) 用于 n 个通道, 该变换将标准化输入 torch.*Tensor 的每一个通道。其处理公式为:\n",
    "而Compose函数可以将上述两个操作合并到一起执行。"
   ]
  },
  {
   "cell_type": "code",
   "execution_count": 4,
   "metadata": {},
   "outputs": [],
   "source": [
    "## 先定义图片数据转换样式\n",
    "# transforms.ToTensor()将图片转换成PyTorch中处理的对象Tensor,并且进行标准化（数据在0~1之间）\n",
    "# transforms.Normalize()做归一化。它进行了减均值，再除以标准差。两个参数分别是均值和标准差\n",
    "# transforms.Compose()函数则是将各种预处理的操作组合到了一起\n",
    "data_tf = transforms.Compose([\n",
    "    transforms.ToTensor(),\n",
    "    transforms.Normalize([0.5], [0.5])])\n",
    "#需要传入两个参数，一个是均值，一个是方差。减均值，除方"
   ]
  },
  {
   "cell_type": "code",
   "execution_count": 5,
   "metadata": {},
   "outputs": [
    {
     "name": "stdout",
     "output_type": "stream",
     "text": [
      "train_data: torch.Size([60000, 28, 28])\n",
      "train_labels: torch.Size([60000])\n",
      "train_data: torch.Size([28])\n",
      "train_labels: tensor(4)\n"
     ]
    }
   ],
   "source": [
    "## 读取下载好的数据集，并进行数据转换处理。转换成所需要的tensor\n",
    "train_dataset = dset.MNIST('root', train=True, transform=data_tf,download=False)\n",
    "test_dataset = dset.MNIST('root', train=False, transform=data_tf, download=False) # 按data_tf的方式转化数据\n",
    "\n",
    "#### torch.util.data的dataloader类：数据加载器https://pytorch.org/docs/stable/data.html?highlight=dataloader#torch.utils.data.DataLoader\n",
    "train_loader = DataLoader(dataset=train_dataset, batch_size=64, shuffle=True) # 数据加载器。组合了一个数据集和采样器，并提供关于数据的迭代器\n",
    "test_loader = DataLoader(dataset=test_dataset, batch_size=64)\n",
    "# 将原数据集做一个shuffle并做批处理，每个mini-batch的数目为64个，共有938个mini-batch,总数据量除以batch_size就是有多少个batch(一批数据)\n",
    "\n",
    "# 数据加载的部分和上面取用一种就可以，不过后者应用了一些转换\n",
    "print(\"train_data:\", train_dataset.train_data.size())\n",
    "print(\"train_labels:\", train_dataset.train_labels.size())\n",
    "\n",
    "print(\"train_data:\", train_dataset.train_data[2][0].size())\n",
    "print(\"train_labels:\", train_dataset.train_labels[2])\n",
    "\n"
   ]
  },
  {
   "cell_type": "markdown",
   "metadata": {},
   "source": [
    "## 实验部分2-构建计算图"
   ]
  },
  {
   "cell_type": "markdown",
   "metadata": {},
   "source": [
    "- 1、利用类来完成定义网络层\n",
    "- 2、选择激活函数 RELU\n",
    "- 3、选择优化器 adam"
   ]
  },
  {
   "cell_type": "code",
   "execution_count": 6,
   "metadata": {},
   "outputs": [],
   "source": [
    "import torch\n",
    "import torch.nn.functional as F\n",
    "import torch.nn as nn\n",
    "\n",
    "## 定义一个三层的全连接网络\n",
    "class FNModel(torch.nn.Module):#继承nn.module\n",
    "    def __init__(self, in_dim, hidden1_dim, hidden2_dim,out_dim):\n",
    "        super(FNModel,self).__init__()\n",
    "        # torch.nn的线性层：https://pytorch.org/docs/stable/nn.html#linear-layers（输入的size,输出的size）\n",
    "        \n",
    "        self.l1 = nn.Linear(in_dim, hidden1_dim) #Linear中的w，b一定要初始化，若自己不定义初始化，则用默认的初始化方式初始化\n",
    "        self.l2 = nn.Linear(hidden1_dim, hidden2_dim)\n",
    "        self.l3 = nn.Linear(hidden2_dim, out_dim)\n",
    "        \n",
    "        self.relu = nn.ReLU()#非线性层，激活函数既可以使用nn，又可以调用nn.functional\n",
    "        \n",
    "## 定义forward pass\n",
    "    def forward(self,x):\n",
    "        out = self.relu(self.l1(x)) # # 激活函数，直接调用torch.nn.functional中集成好的Relu\n",
    "        out= self.relu(self.l2(out))\n",
    "        out = self.relu(self.l3(out))\n",
    "        return out\n",
    "\n",
    "fnModel = FNModel(28 * 28, 300, 100, 10)     #输入图片是28x28，三层分别为300，100，100最后10类\n"
   ]
  },
  {
   "cell_type": "markdown",
   "metadata": {},
   "source": [
    "## 实验部分3-选择损失函数与优化器"
   ]
  },
  {
   "cell_type": "code",
   "execution_count": 1,
   "metadata": {},
   "outputs": [
    {
     "ename": "NameError",
     "evalue": "name 'nn' is not defined",
     "output_type": "error",
     "traceback": [
      "\u001b[1;31m---------------------------------------------------------------------------\u001b[0m",
      "\u001b[1;31mNameError\u001b[0m                                 Traceback (most recent call last)",
      "\u001b[1;32m<ipython-input-1-91773b8fb73e>\u001b[0m in \u001b[0;36m<module>\u001b[1;34m\u001b[0m\n\u001b[1;32m----> 1\u001b[1;33m \u001b[0mloss_fn\u001b[0m\u001b[1;33m=\u001b[0m\u001b[0mnn\u001b[0m\u001b[1;33m.\u001b[0m\u001b[0mCrossEntropyLoss\u001b[0m\u001b[1;33m(\u001b[0m\u001b[1;33m)\u001b[0m\u001b[1;33m\u001b[0m\u001b[1;33m\u001b[0m\u001b[0m\n\u001b[0m\u001b[0;32m      2\u001b[0m \u001b[1;31m#涉及到图像处理，故此处选择CrossEntropy损失函数\u001b[0m\u001b[1;33m\u001b[0m\u001b[1;33m\u001b[0m\u001b[1;33m\u001b[0m\u001b[0m\n\u001b[0;32m      3\u001b[0m \u001b[0mlearning_rate\u001b[0m\u001b[1;33m=\u001b[0m\u001b[1;36m1e-2\u001b[0m\u001b[1;33m\u001b[0m\u001b[1;33m\u001b[0m\u001b[0m\n\u001b[0;32m      4\u001b[0m \u001b[0moptimizer\u001b[0m \u001b[1;33m=\u001b[0m \u001b[0moptim\u001b[0m\u001b[1;33m.\u001b[0m\u001b[0mSGD\u001b[0m\u001b[1;33m(\u001b[0m\u001b[0mfnModel\u001b[0m\u001b[1;33m.\u001b[0m\u001b[0mparameters\u001b[0m\u001b[1;33m(\u001b[0m\u001b[1;33m)\u001b[0m\u001b[1;33m,\u001b[0m\u001b[0mlr\u001b[0m\u001b[1;33m=\u001b[0m\u001b[0mlearning_rate\u001b[0m\u001b[1;33m)\u001b[0m\u001b[1;31m# 用了relu，所以lr很小\u001b[0m\u001b[1;33m\u001b[0m\u001b[1;33m\u001b[0m\u001b[0m\n\u001b[0;32m      5\u001b[0m \u001b[1;31m##注意报错，用fnModel,否则FNModel会因为没有实例化类而报错缺少位置参数self\u001b[0m\u001b[1;33m\u001b[0m\u001b[1;33m\u001b[0m\u001b[1;33m\u001b[0m\u001b[0m\n",
      "\u001b[1;31mNameError\u001b[0m: name 'nn' is not defined"
     ]
    }
   ],
   "source": [
    "loss_fn=nn.CrossEntropyLoss()\n",
    "#涉及到图像处理，故此处选择CrossEntropy损失函数\n",
    "learning_rate=1e-2\n",
    "optimizer = optim.Adam(fnModel.parameters(),lr=learning_rate)# 用了relu，所以lr很小\n",
    "##注意报错，用fnModel,否则FNModel会因为没有实例化类而报错缺少位置参数self"
   ]
  },
  {
   "cell_type": "markdown",
   "metadata": {},
   "source": [
    "## 实验部分4-训练模型"
   ]
  },
  {
   "cell_type": "code",
   "execution_count": 8,
   "metadata": {},
   "outputs": [
    {
     "name": "stderr",
     "output_type": "stream",
     "text": [
      "C:\\Users\\28038\\anaconda3\\lib\\site-packages\\torch\\autograd\\__init__.py:179: UserWarning: torch.autograd.variable(...) is deprecated, use torch.tensor(...) instead\n",
      "  warnings.warn(\"torch.autograd.variable(...) is deprecated, use torch.tensor(...) instead\")\n",
      "C:\\Users\\28038\\anaconda3\\lib\\site-packages\\torch\\autograd\\__init__.py:180: UserWarning: To copy construct from a tensor, it is recommended to use sourceTensor.clone().detach() or sourceTensor.clone().detach().requires_grad_(True), rather than torch.tensor(sourceTensor).\n",
      "  return torch.tensor(*args, **kwargs)\n"
     ]
    },
    {
     "name": "stdout",
     "output_type": "stream",
     "text": [
      "epoch: 0, batch is 第100, loss is 2.3025834560394287\n",
      "epoch: 0, batch is 第200, loss is 2.3025834560394287\n",
      "epoch: 0, batch is 第300, loss is 2.3025834560394287\n",
      "epoch: 0, batch is 第400, loss is 2.3025834560394287\n",
      "epoch: 0, batch is 第500, loss is 2.3025834560394287\n",
      "epoch: 0, batch is 第600, loss is 2.3025834560394287\n",
      "epoch: 0, batch is 第700, loss is 2.3025834560394287\n",
      "epoch: 0, batch is 第800, loss is 2.3025834560394287\n",
      "epoch: 0, batch is 第900, loss is 2.3025834560394287\n",
      "epoch: 1, batch is 第100, loss is 2.3025834560394287\n",
      "epoch: 1, batch is 第200, loss is 2.3025834560394287\n",
      "epoch: 1, batch is 第300, loss is 2.3025834560394287\n",
      "epoch: 1, batch is 第400, loss is 2.3025834560394287\n",
      "epoch: 1, batch is 第500, loss is 2.3025834560394287\n",
      "epoch: 1, batch is 第600, loss is 2.3025834560394287\n",
      "epoch: 1, batch is 第700, loss is 2.3025834560394287\n",
      "epoch: 1, batch is 第800, loss is 2.3025834560394287\n",
      "epoch: 1, batch is 第900, loss is 2.3025834560394287\n",
      "epoch: 2, batch is 第100, loss is 2.3025834560394287\n",
      "epoch: 2, batch is 第200, loss is 2.3025834560394287\n",
      "epoch: 2, batch is 第300, loss is 2.3025834560394287\n",
      "epoch: 2, batch is 第400, loss is 2.3025834560394287\n",
      "epoch: 2, batch is 第500, loss is 2.3025834560394287\n",
      "epoch: 2, batch is 第600, loss is 2.3025834560394287\n",
      "epoch: 2, batch is 第700, loss is 2.3025834560394287\n",
      "epoch: 2, batch is 第800, loss is 2.3025834560394287\n",
      "epoch: 2, batch is 第900, loss is 2.3025834560394287\n",
      "epoch: 3, batch is 第100, loss is 2.3025834560394287\n",
      "epoch: 3, batch is 第200, loss is 2.3025834560394287\n",
      "epoch: 3, batch is 第300, loss is 2.3025834560394287\n",
      "epoch: 3, batch is 第400, loss is 2.3025834560394287\n",
      "epoch: 3, batch is 第500, loss is 2.3025834560394287\n",
      "epoch: 3, batch is 第600, loss is 2.3025834560394287\n",
      "epoch: 3, batch is 第700, loss is 2.3025834560394287\n",
      "epoch: 3, batch is 第800, loss is 2.3025834560394287\n",
      "epoch: 3, batch is 第900, loss is 2.3025834560394287\n"
     ]
    }
   ],
   "source": [
    "#超参数配置\n",
    "num_epochs=4\n",
    "\n",
    "for epoch in range(num_epochs):\n",
    "    batch=0\n",
    "    for data in train_loader:\n",
    "        img,label=data#img:torch.Size([64, 1, 28, 28])\n",
    "\n",
    "        img=img.view(img.size(0),-1)#img:torch.Size([64, 784=28*28])\n",
    "\n",
    "\n",
    "        img=torch.autograd.variable(img)#img=Variable(img)\n",
    "        label=torch.autograd.variable(label)#包装一个Tensor,并记录用在它身上的operations :https://blog.csdn.net/KGzhang/article/details/77483383\n",
    "\n",
    "    #开始训练\n",
    "        \n",
    "        out=fnModel(img)\n",
    "    #计算loss\n",
    "        loss=loss_fn(out,label)   \n",
    "    #进行反向传导，之前要进行梯度归零\n",
    "        optimizer.zero_grad()\n",
    "        loss.backward()\n",
    "    #进行优化\n",
    "        optimizer.step()\n",
    "\n",
    "    #再来一个epoch,并输出本epoch的结果\n",
    "        batch+=1\n",
    "        if batch%100== 0:\n",
    "             print(\"epoch: {}, batch is 第{}, loss is {}\".format(epoch, batch,loss))\n",
    "        \n",
    "        "
   ]
  },
  {
   "cell_type": "markdown",
   "metadata": {},
   "source": [
    "## 实验部分-5 测试模型"
   ]
  },
  {
   "cell_type": "code",
   "execution_count": 9,
   "metadata": {},
   "outputs": [
    {
     "name": "stdout",
     "output_type": "stream",
     "text": [
      "loss:2.30258,   Test Loss: 0.01474, Acc: 0.00070\n",
      "loss:2.30258,   Test Loss: 0.02947, Acc: 0.00170\n",
      "loss:2.30258,   Test Loss: 0.04421, Acc: 0.00200\n",
      "loss:2.30258,   Test Loss: 0.05895, Acc: 0.00280\n",
      "loss:2.30258,   Test Loss: 0.07368, Acc: 0.00350\n",
      "loss:2.30258,   Test Loss: 0.08842, Acc: 0.00390\n",
      "loss:2.30258,   Test Loss: 0.10316, Acc: 0.00460\n",
      "loss:2.30258,   Test Loss: 0.11789, Acc: 0.00550\n",
      "loss:2.30258,   Test Loss: 0.13263, Acc: 0.00610\n",
      "loss:2.30258,   Test Loss: 0.14737, Acc: 0.00690\n",
      "loss:2.30258,   Test Loss: 0.16210, Acc: 0.00740\n",
      "loss:2.30258,   Test Loss: 0.17684, Acc: 0.00780\n",
      "loss:2.30258,   Test Loss: 0.19157, Acc: 0.00810\n",
      "loss:2.30258,   Test Loss: 0.20631, Acc: 0.00860\n",
      "loss:2.30258,   Test Loss: 0.22105, Acc: 0.00900\n",
      "loss:2.30258,   Test Loss: 0.23578, Acc: 0.00970\n",
      "loss:2.30258,   Test Loss: 0.25052, Acc: 0.01030\n",
      "loss:2.30258,   Test Loss: 0.26526, Acc: 0.01090\n",
      "loss:2.30258,   Test Loss: 0.27999, Acc: 0.01130\n",
      "loss:2.30258,   Test Loss: 0.29473, Acc: 0.01190\n",
      "loss:2.30258,   Test Loss: 0.30947, Acc: 0.01270\n",
      "loss:2.30258,   Test Loss: 0.32420, Acc: 0.01300\n",
      "loss:2.30258,   Test Loss: 0.33894, Acc: 0.01410\n",
      "loss:2.30258,   Test Loss: 0.35368, Acc: 0.01480\n",
      "loss:2.30258,   Test Loss: 0.36841, Acc: 0.01550\n",
      "loss:2.30258,   Test Loss: 0.38315, Acc: 0.01630\n",
      "loss:2.30258,   Test Loss: 0.39789, Acc: 0.01690\n",
      "loss:2.30258,   Test Loss: 0.41262, Acc: 0.01750\n",
      "loss:2.30258,   Test Loss: 0.42736, Acc: 0.01820\n",
      "loss:2.30258,   Test Loss: 0.44210, Acc: 0.01890\n",
      "loss:2.30258,   Test Loss: 0.45683, Acc: 0.01920\n",
      "loss:2.30258,   Test Loss: 0.47157, Acc: 0.01970\n",
      "loss:2.30258,   Test Loss: 0.48631, Acc: 0.02020\n",
      "loss:2.30258,   Test Loss: 0.50104, Acc: 0.02050\n",
      "loss:2.30258,   Test Loss: 0.51578, Acc: 0.02120\n",
      "loss:2.30258,   Test Loss: 0.53052, Acc: 0.02200\n",
      "loss:2.30258,   Test Loss: 0.54525, Acc: 0.02280\n",
      "loss:2.30258,   Test Loss: 0.55999, Acc: 0.02340\n",
      "loss:2.30258,   Test Loss: 0.57472, Acc: 0.02430\n",
      "loss:2.30258,   Test Loss: 0.58946, Acc: 0.02490\n",
      "loss:2.30258,   Test Loss: 0.60420, Acc: 0.02540\n",
      "loss:2.30258,   Test Loss: 0.61893, Acc: 0.02590\n",
      "loss:2.30258,   Test Loss: 0.63367, Acc: 0.02660\n",
      "loss:2.30258,   Test Loss: 0.64841, Acc: 0.02720\n",
      "loss:2.30258,   Test Loss: 0.66314, Acc: 0.02790\n",
      "loss:2.30258,   Test Loss: 0.67788, Acc: 0.02890\n",
      "loss:2.30258,   Test Loss: 0.69262, Acc: 0.02980\n",
      "loss:2.30258,   Test Loss: 0.70735, Acc: 0.03030\n",
      "loss:2.30258,   Test Loss: 0.72209, Acc: 0.03040\n",
      "loss:2.30258,   Test Loss: 0.73683, Acc: 0.03100\n",
      "loss:2.30258,   Test Loss: 0.75156, Acc: 0.03130\n",
      "loss:2.30258,   Test Loss: 0.76630, Acc: 0.03150\n",
      "loss:2.30258,   Test Loss: 0.78104, Acc: 0.03190\n",
      "loss:2.30258,   Test Loss: 0.79577, Acc: 0.03240\n",
      "loss:2.30258,   Test Loss: 0.81051, Acc: 0.03370\n",
      "loss:2.30258,   Test Loss: 0.82525, Acc: 0.03410\n",
      "loss:2.30258,   Test Loss: 0.83998, Acc: 0.03450\n",
      "loss:2.30258,   Test Loss: 0.85472, Acc: 0.03510\n",
      "loss:2.30258,   Test Loss: 0.86946, Acc: 0.03560\n",
      "loss:2.30258,   Test Loss: 0.88419, Acc: 0.03620\n",
      "loss:2.30258,   Test Loss: 0.89893, Acc: 0.03790\n",
      "loss:2.30258,   Test Loss: 0.91367, Acc: 0.03850\n",
      "loss:2.30258,   Test Loss: 0.92840, Acc: 0.03960\n",
      "loss:2.30258,   Test Loss: 0.94314, Acc: 0.04020\n",
      "loss:2.30258,   Test Loss: 0.95787, Acc: 0.04100\n",
      "loss:2.30258,   Test Loss: 0.97261, Acc: 0.04180\n",
      "loss:2.30258,   Test Loss: 0.98735, Acc: 0.04300\n",
      "loss:2.30258,   Test Loss: 1.00208, Acc: 0.04430\n",
      "loss:2.30258,   Test Loss: 1.01682, Acc: 0.04510\n",
      "loss:2.30258,   Test Loss: 1.03156, Acc: 0.04590\n",
      "loss:2.30258,   Test Loss: 1.04629, Acc: 0.04660\n",
      "loss:2.30258,   Test Loss: 1.06103, Acc: 0.04750\n",
      "loss:2.30258,   Test Loss: 1.07577, Acc: 0.04840\n",
      "loss:2.30258,   Test Loss: 1.09050, Acc: 0.04940\n",
      "loss:2.30258,   Test Loss: 1.10524, Acc: 0.05000\n",
      "loss:2.30258,   Test Loss: 1.11998, Acc: 0.05060\n",
      "loss:2.30258,   Test Loss: 1.13471, Acc: 0.05120\n",
      "loss:2.30258,   Test Loss: 1.14945, Acc: 0.05200\n",
      "loss:2.30258,   Test Loss: 1.16419, Acc: 0.05300\n",
      "loss:2.30258,   Test Loss: 1.17892, Acc: 0.05360\n",
      "loss:2.30258,   Test Loss: 1.19366, Acc: 0.05420\n",
      "loss:2.30258,   Test Loss: 1.20840, Acc: 0.05480\n",
      "loss:2.30258,   Test Loss: 1.22313, Acc: 0.05550\n",
      "loss:2.30258,   Test Loss: 1.23787, Acc: 0.05610\n",
      "loss:2.30258,   Test Loss: 1.25261, Acc: 0.05680\n",
      "loss:2.30258,   Test Loss: 1.26734, Acc: 0.05720\n",
      "loss:2.30258,   Test Loss: 1.28208, Acc: 0.05770\n",
      "loss:2.30258,   Test Loss: 1.29682, Acc: 0.05850\n",
      "loss:2.30258,   Test Loss: 1.31155, Acc: 0.05900\n",
      "loss:2.30258,   Test Loss: 1.32629, Acc: 0.05980\n",
      "loss:2.30258,   Test Loss: 1.34102, Acc: 0.06050\n",
      "loss:2.30258,   Test Loss: 1.35576, Acc: 0.06100\n",
      "loss:2.30258,   Test Loss: 1.37050, Acc: 0.06160\n",
      "loss:2.30258,   Test Loss: 1.38523, Acc: 0.06220\n",
      "loss:2.30258,   Test Loss: 1.39997, Acc: 0.06280\n",
      "loss:2.30258,   Test Loss: 1.41471, Acc: 0.06330\n",
      "loss:2.30258,   Test Loss: 1.42944, Acc: 0.06400\n",
      "loss:2.30258,   Test Loss: 1.44418, Acc: 0.06480\n",
      "loss:2.30258,   Test Loss: 1.45892, Acc: 0.06510\n",
      "loss:2.30258,   Test Loss: 1.47365, Acc: 0.06540\n",
      "loss:2.30258,   Test Loss: 1.48839, Acc: 0.06630\n",
      "loss:2.30258,   Test Loss: 1.50313, Acc: 0.06710\n",
      "loss:2.30258,   Test Loss: 1.51786, Acc: 0.06750\n",
      "loss:2.30258,   Test Loss: 1.53260, Acc: 0.06830\n",
      "loss:2.30258,   Test Loss: 1.54734, Acc: 0.06900\n",
      "loss:2.30258,   Test Loss: 1.56207, Acc: 0.06940\n",
      "loss:2.30258,   Test Loss: 1.57681, Acc: 0.07000\n",
      "loss:2.30258,   Test Loss: 1.59155, Acc: 0.07070\n",
      "loss:2.30258,   Test Loss: 1.60628, Acc: 0.07140\n",
      "loss:2.30258,   Test Loss: 1.62102, Acc: 0.07210\n",
      "loss:2.30258,   Test Loss: 1.63576, Acc: 0.07280\n",
      "loss:2.30258,   Test Loss: 1.65049, Acc: 0.07350\n",
      "loss:2.30258,   Test Loss: 1.66523, Acc: 0.07400\n",
      "loss:2.30258,   Test Loss: 1.67996, Acc: 0.07480\n",
      "loss:2.30258,   Test Loss: 1.69470, Acc: 0.07540\n",
      "loss:2.30258,   Test Loss: 1.70944, Acc: 0.07590\n",
      "loss:2.30258,   Test Loss: 1.72417, Acc: 0.07650\n",
      "loss:2.30258,   Test Loss: 1.73891, Acc: 0.07720\n",
      "loss:2.30258,   Test Loss: 1.75365, Acc: 0.07800\n",
      "loss:2.30258,   Test Loss: 1.76838, Acc: 0.07870\n",
      "loss:2.30258,   Test Loss: 1.78312, Acc: 0.07930\n",
      "loss:2.30258,   Test Loss: 1.79786, Acc: 0.08000\n",
      "loss:2.30258,   Test Loss: 1.81259, Acc: 0.08080\n",
      "loss:2.30258,   Test Loss: 1.82733, Acc: 0.08130\n",
      "loss:2.30258,   Test Loss: 1.84207, Acc: 0.08180\n",
      "loss:2.30258,   Test Loss: 1.85680, Acc: 0.08250\n",
      "loss:2.30258,   Test Loss: 1.87154, Acc: 0.08320\n",
      "loss:2.30258,   Test Loss: 1.88628, Acc: 0.08380\n",
      "loss:2.30258,   Test Loss: 1.90101, Acc: 0.08440\n",
      "loss:2.30258,   Test Loss: 1.91575, Acc: 0.08500\n",
      "loss:2.30258,   Test Loss: 1.93049, Acc: 0.08580\n",
      "loss:2.30258,   Test Loss: 1.94522, Acc: 0.08630\n",
      "loss:2.30258,   Test Loss: 1.95996, Acc: 0.08700\n",
      "loss:2.30258,   Test Loss: 1.97470, Acc: 0.08740\n",
      "loss:2.30258,   Test Loss: 1.98943, Acc: 0.08790\n",
      "loss:2.30258,   Test Loss: 2.00417, Acc: 0.08860\n",
      "loss:2.30258,   Test Loss: 2.01891, Acc: 0.08920\n",
      "loss:2.30258,   Test Loss: 2.03364, Acc: 0.08990\n",
      "loss:2.30258,   Test Loss: 2.04838, Acc: 0.09040\n",
      "loss:2.30258,   Test Loss: 2.06311, Acc: 0.09150\n",
      "loss:2.30258,   Test Loss: 2.07785, Acc: 0.09200\n",
      "loss:2.30258,   Test Loss: 2.09259, Acc: 0.09260\n",
      "loss:2.30258,   Test Loss: 2.10732, Acc: 0.09310\n",
      "loss:2.30258,   Test Loss: 2.12206, Acc: 0.09380\n",
      "loss:2.30258,   Test Loss: 2.13680, Acc: 0.09460\n",
      "loss:2.30258,   Test Loss: 2.15153, Acc: 0.09510\n",
      "loss:2.30258,   Test Loss: 2.16627, Acc: 0.09570\n",
      "loss:2.30258,   Test Loss: 2.18101, Acc: 0.09630\n",
      "loss:2.30258,   Test Loss: 2.19574, Acc: 0.09690\n",
      "loss:2.30258,   Test Loss: 2.21048, Acc: 0.09770\n",
      "loss:2.30258,   Test Loss: 2.22522, Acc: 0.09820\n",
      "loss:2.30258,   Test Loss: 2.23995, Acc: 0.09880\n",
      "loss:2.30258,   Test Loss: 2.25469, Acc: 0.09950\n",
      "loss:2.30258,   Test Loss: 2.26943, Acc: 0.09990\n",
      "loss:2.30258,   Test Loss: 2.28416, Acc: 0.10040\n",
      "loss:2.30258,   Test Loss: 2.29890, Acc: 0.10080\n",
      "loss:2.30259,   Test Loss: 2.30258, Acc: 0.10090\n"
     ]
    }
   ],
   "source": [
    "# 测试评估\n",
    "fnModel.eval()#模型测试\n",
    "eval_loss = 0\n",
    "eval_acc = 0\n",
    "for data in test_loader:\n",
    "    \n",
    "    img, label = data#img:torch.Size([64, 1, 28, 28])\n",
    "    img = img.view(img.size(0), -1)#img:torch.Size([64, 784=28*28])\n",
    "    #label = label.view(label.size(0), -1) 不需要，因为label就是一维tensor\n",
    "    \n",
    "    out = fnModel(img)#一个batch_size的预测，每一个对应10类不一样概率\n",
    "    #print(out.size())#一个batch_size的预测，每一个对应10类不一样概率\n",
    "    loss = loss_fn(out, label)\n",
    "    \n",
    "    eval_loss += loss.data.item()*label.size(0)#扩大了64倍\n",
    "    _, pred = torch.max(out, 1)#找到最大概率对应的索引号，该图片即为该索引号对应的类别\n",
    "    num_correct = (pred == label).sum()\n",
    "    eval_acc += num_correct.item()\n",
    "    \n",
    "    print('loss:{:.5f},   Test Loss: {:.5f}, Acc: {:.5f}'.format(#{:.5f}保留小数点几位\n",
    "   loss, eval_loss / (len(test_dataset)),\n",
    "    eval_acc / (len(test_dataset))\n",
    "))"
   ]
  },
  {
   "cell_type": "markdown",
   "metadata": {},
   "source": [
    "## 实验部分-6 保存模型及配置、加载模型"
   ]
  },
  {
   "cell_type": "code",
   "execution_count": 10,
   "metadata": {},
   "outputs": [
    {
     "name": "stderr",
     "output_type": "stream",
     "text": [
      "C:\\Users\\28038\\anaconda3\\lib\\site-packages\\torch\\serialization.py:360: UserWarning: Couldn't retrieve source code for container of type FNModel. It won't be checked for correctness upon loading.\n",
      "  \"type \" + obj.__name__ + \". It won't be checked \"\n"
     ]
    }
   ],
   "source": [
    "torch.save(fnModel, 'fnModel.pkl')  # 保存整个神经网络的结构和模型参数    \n",
    "torch.save(fnModel.state_dict(), 'fnModel.parm.pkl') # 只保存神经网络的模型参数    "
   ]
  },
  {
   "cell_type": "code",
   "execution_count": 11,
   "metadata": {},
   "outputs": [],
   "source": [
    "# 加载整个模型(加载完整模型)   \n",
    "FNModel = torch.load('./fnModel.pkl') \n"
   ]
  },
  {
   "cell_type": "markdown",
   "metadata": {},
   "source": [
    "## 实验部分-7 用加载的模型预测新图"
   ]
  },
  {
   "cell_type": "code",
   "execution_count": 19,
   "metadata": {},
   "outputs": [
    {
     "name": "stdout",
     "output_type": "stream",
     "text": [
      "[  0   0   0   0   0   0  16 231 252 253 252 252 252 226 227 252 231   0\n",
      "   0   0   0   0   0   0   0   0   0   0]\n",
      "(28, 28)\n",
      "uint8\n"
     ]
    },
    {
     "data": {
      "image/png": "[encoded data removed]",
      "text/plain": [
       "<Figure size 432x288 with 1 Axes>"
      ]
     },
     "metadata": {
      "needs_background": "light"
     },
     "output_type": "display_data"
    }
   ],
   "source": [
    "import matplotlib.pyplot as plt\n",
    "from PIL import Image\n",
    "import numpy as np\n",
    "img1 = Image.open('4-9.png')#路径要用\"\"\n",
    "img1 = np.array(img1)#转化成数组\n",
    "print(img1[15])#查看某一色彩通道\n",
    "print(img1.shape)\n",
    "print(img1.dtype)\n",
    "plt.imshow(img1)#imshow()接收一张图像，只是画出该图，并不会立刻显示出来。imshow后还可以进行其他draw操作，比如scatter散点等。\n",
    "plt.show()#画完后使用plt.show()才能进行结果的显示。"
   ]
  },
  {
   "cell_type": "code",
   "execution_count": 21,
   "metadata": {},
   "outputs": [
    {
     "name": "stdout",
     "output_type": "stream",
     "text": [
      "torch.Size([1, 28, 28])\n",
      "torch.Size([1, 784])\n",
      "torch.Size([1, 10])\n",
      "tensor([[0., 0., 0., 0., 0., 0., 0., 0., 0., 0.]], grad_fn=<ReluBackward0>)\n",
      "\n"
     ]
    },
    {
     "data": {
      "image/png": "[encoded data removed]",
      "text/plain": [
       "<Figure size 432x288 with 1 Axes>"
      ]
     },
     "metadata": {
      "needs_background": "light"
     },
     "output_type": "display_data"
    },
    {
     "name": "stdout",
     "output_type": "stream",
     "text": [
      "本图片是：9\n"
     ]
    }
   ],
   "source": [
    "input=data_tf(img1)#转换成符合输入的tensor\n",
    "print(input.size())\n",
    "input=input.view(input.size(0),-1)\n",
    "print(input.size())\n",
    "# img = img.unsqueeze(0)#增加一维batch_size，输出的img格式为[1,1,28,28]\n",
    "\n",
    "score = FNModel(input)#将图片输入网络得到输出\n",
    "print(score.size())\n",
    "print(score)\n",
    "max_value,index = torch.max(score, 1)#找到最大概率对应的索引号，该图片即为该索引号对应的类别\n",
    " #proba = F.relu(score)#计算该图片属于各类的概率,在网络层已经通过激活函数，因此本步不需要\n",
    " #max_value,index = torch.max(proba,1)\n",
    " #print(proba.size())\n",
    " #print(proba)\n",
    "print()\n",
    "plt.imshow(img1)#imshow()接收一张图像，只是画出该图，并不会立刻显示出来。imshow后还可以进行其他draw操作，比如scatter散点等。\n",
    "plt.show()#画完后使用plt.show()才能进行结果的显示。\n",
    "print(\"本图片是：{}\".format(index.item()))\n"
   ]
  },
  {
   "cell_type": "markdown",
   "metadata": {},
   "source": [
    "## debug记录-1"
   ]
  },
  {
   "attachments": {
    "image.png": {
     "image/png": "[encoded data removed]"
    }
   },
   "cell_type": "markdown",
   "metadata": {},
   "source": [
    "\n",
    "\n",
    "1、**TypeError: default_collate: batch must contain tensors, numpy arrays, numbers, dicts or lists; found <class 'PIL.Image.Image'>**\n",
    "\n",
    "\n",
    "![image1.png](attachment:image.png)"
   ]
  },
  {
   "cell_type": "markdown",
   "metadata": {},
   "source": [
    "## debug记录-2  \n",
    "\n",
    "- 了解dataset的读取机制"
   ]
  },
  {
   "cell_type": "code",
   "execution_count": 14,
   "metadata": {},
   "outputs": [
    {
     "name": "stdout",
     "output_type": "stream",
     "text": [
      "第一项是维度torch.Size([64, 1, 28, 28])，第二项的维度torch.Size([64])\n",
      "--------\n",
      "tensor([[[[-1., -1., -1.,  ..., -1., -1., -1.],\n",
      "          [-1., -1., -1.,  ..., -1., -1., -1.],\n",
      "          [-1., -1., -1.,  ..., -1., -1., -1.],\n",
      "          ...,\n",
      "          [-1., -1., -1.,  ..., -1., -1., -1.],\n",
      "          [-1., -1., -1.,  ..., -1., -1., -1.],\n",
      "          [-1., -1., -1.,  ..., -1., -1., -1.]]],\n",
      "\n",
      "\n",
      "        [[[-1., -1., -1.,  ..., -1., -1., -1.],\n",
      "          [-1., -1., -1.,  ..., -1., -1., -1.],\n",
      "          [-1., -1., -1.,  ..., -1., -1., -1.],\n",
      "          ...,\n",
      "          [-1., -1., -1.,  ..., -1., -1., -1.],\n",
      "          [-1., -1., -1.,  ..., -1., -1., -1.],\n",
      "          [-1., -1., -1.,  ..., -1., -1., -1.]]],\n",
      "\n",
      "\n",
      "        [[[-1., -1., -1.,  ..., -1., -1., -1.],\n",
      "          [-1., -1., -1.,  ..., -1., -1., -1.],\n",
      "          [-1., -1., -1.,  ..., -1., -1., -1.],\n",
      "          ...,\n",
      "          [-1., -1., -1.,  ..., -1., -1., -1.],\n",
      "          [-1., -1., -1.,  ..., -1., -1., -1.],\n",
      "          [-1., -1., -1.,  ..., -1., -1., -1.]]],\n",
      "\n",
      "\n",
      "        ...,\n",
      "\n",
      "\n",
      "        [[[-1., -1., -1.,  ..., -1., -1., -1.],\n",
      "          [-1., -1., -1.,  ..., -1., -1., -1.],\n",
      "          [-1., -1., -1.,  ..., -1., -1., -1.],\n",
      "          ...,\n",
      "          [-1., -1., -1.,  ..., -1., -1., -1.],\n",
      "          [-1., -1., -1.,  ..., -1., -1., -1.],\n",
      "          [-1., -1., -1.,  ..., -1., -1., -1.]]],\n",
      "\n",
      "\n",
      "        [[[-1., -1., -1.,  ..., -1., -1., -1.],\n",
      "          [-1., -1., -1.,  ..., -1., -1., -1.],\n",
      "          [-1., -1., -1.,  ..., -1., -1., -1.],\n",
      "          ...,\n",
      "          [-1., -1., -1.,  ..., -1., -1., -1.],\n",
      "          [-1., -1., -1.,  ..., -1., -1., -1.],\n",
      "          [-1., -1., -1.,  ..., -1., -1., -1.]]],\n",
      "\n",
      "\n",
      "        [[[-1., -1., -1.,  ..., -1., -1., -1.],\n",
      "          [-1., -1., -1.,  ..., -1., -1., -1.],\n",
      "          [-1., -1., -1.,  ..., -1., -1., -1.],\n",
      "          ...,\n",
      "          [-1., -1., -1.,  ..., -1., -1., -1.],\n",
      "          [-1., -1., -1.,  ..., -1., -1., -1.],\n",
      "          [-1., -1., -1.,  ..., -1., -1., -1.]]]])\n",
      "torch.Size([64, 1, 28, 28])\n",
      "--------\n",
      "torch.Size([64, 1, 28, 28])\n",
      "64\n",
      "--------\n",
      "torch.Size([64, 784])\n"
     ]
    }
   ],
   "source": [
    "for data in test_loader:\n",
    "    img, label = data\n",
    "    #print(len(data)) data 是个list,第一项是img,第二项是label\n",
    "    #print(len(data[0]))读取数据时已经设定了每个batch_size，所以是64个数据\n",
    "    print(\"第一项是维度{}，第二项的维度{}\".format(data[0].size(),data[1].size()))\n",
    "    print(\"--------\")\n",
    "    print(data[0])#img被转换成tensor\n",
    "    print(data[0].shape)\n",
    "    print(\"--------\")\n",
    "    print(img.size())\n",
    "    print(label.size(0))#64\n",
    "    img = img.view(img.size(0), -1)\n",
    "    print(\"--------\")\n",
    "    print(img.size())\n",
    "    break"
   ]
  },
  {
   "cell_type": "markdown",
   "metadata": {},
   "source": [
    "### torch.max()的用法\n",
    "\n",
    "_,b=torch.max(input,dim)代表，_存input的最大值，b存对应的索引值，dim0代表列，1代表行"
   ]
  },
  {
   "cell_type": "code",
   "execution_count": 15,
   "metadata": {},
   "outputs": [
    {
     "name": "stdout",
     "output_type": "stream",
     "text": [
      "a:\n",
      " tensor([-0.3787,  0.3073,  0.5992])\n",
      "max(a): tensor(0.5992)\n"
     ]
    }
   ],
   "source": [
    "import torch \n",
    " \n",
    "a=torch.randn(3)\n",
    "print(\"a:\\n\",a)\n",
    "print('max(a):',torch.max(a))\n",
    " \n"
   ]
  },
  {
   "cell_type": "code",
   "execution_count": 16,
   "metadata": {},
   "outputs": [
    {
     "name": "stdout",
     "output_type": "stream",
     "text": [
      "b:\n",
      " tensor([[-0.1768,  1.0225, -0.6572,  0.3356],\n",
      "        [-0.7773,  1.6541,  0.8477, -0.6806],\n",
      "        [ 0.6473,  1.4573,  0.4640, -0.3036]])\n",
      "tensor([0.6473, 1.6541, 0.8477, 0.3356])\n"
     ]
    },
    {
     "data": {
      "text/plain": [
       "tensor([2, 1, 1, 0])"
      ]
     },
     "execution_count": 16,
     "metadata": {},
     "output_type": "execute_result"
    }
   ],
   "source": [
    "b=torch.randn(3,4)\n",
    "print(\"b:\\n\",b)\n",
    "_,p=torch.max(b,0)#\n",
    "print(_)\n",
    "p\n",
    "#print('max(b,0):',torch.max(b,0))\n",
    "#print('max(b,1):',torch.max(b,1))"
   ]
  },
  {
   "cell_type": "code",
   "execution_count": null,
   "metadata": {},
   "outputs": [],
   "source": []
  },
  {
   "cell_type": "code",
   "execution_count": null,
   "metadata": {},
   "outputs": [],
   "source": []
  },
  {
   "cell_type": "markdown",
   "metadata": {},
   "source": [
    "## 规范代码示例"
   ]
  },
  {
   "cell_type": "code",
   "execution_count": 17,
   "metadata": {},
   "outputs": [
    {
     "ename": "RuntimeError",
     "evalue": "Expected object of device type cuda but got device type cpu for argument #2 'mat1' in call to _th_addmm",
     "output_type": "error",
     "traceback": [
      "\u001b[1;31m---------------------------------------------------------------------------\u001b[0m",
      "\u001b[1;31mRuntimeError\u001b[0m                              Traceback (most recent call last)",
      "\u001b[1;32m<ipython-input-17-4343c3463994>\u001b[0m in \u001b[0;36m<module>\u001b[1;34m\u001b[0m\n\u001b[0;32m     53\u001b[0m             \u001b[0mlabel\u001b[0m \u001b[1;33m=\u001b[0m \u001b[0mVariable\u001b[0m\u001b[1;33m(\u001b[0m\u001b[0mlabel\u001b[0m\u001b[1;33m)\u001b[0m\u001b[1;33m\u001b[0m\u001b[1;33m\u001b[0m\u001b[0m\n\u001b[0;32m     54\u001b[0m             \u001b[1;31m# forward\u001b[0m\u001b[1;33m\u001b[0m\u001b[1;33m\u001b[0m\u001b[1;33m\u001b[0m\u001b[0m\n\u001b[1;32m---> 55\u001b[1;33m             \u001b[0mout\u001b[0m \u001b[1;33m=\u001b[0m \u001b[0mmodel\u001b[0m\u001b[1;33m(\u001b[0m\u001b[0mimg\u001b[0m\u001b[1;33m)\u001b[0m\u001b[1;33m\u001b[0m\u001b[1;33m\u001b[0m\u001b[0m\n\u001b[0m\u001b[0;32m     56\u001b[0m             \u001b[0mloss\u001b[0m \u001b[1;33m=\u001b[0m \u001b[0mcriterion\u001b[0m\u001b[1;33m(\u001b[0m\u001b[0mout\u001b[0m\u001b[1;33m,\u001b[0m \u001b[0mlabel\u001b[0m\u001b[1;33m)\u001b[0m\u001b[1;33m\u001b[0m\u001b[1;33m\u001b[0m\u001b[0m\n\u001b[0;32m     57\u001b[0m             \u001b[1;31m# backward\u001b[0m\u001b[1;33m\u001b[0m\u001b[1;33m\u001b[0m\u001b[1;33m\u001b[0m\u001b[0m\n",
      "\u001b[1;32m~\\anaconda3\\lib\\site-packages\\torch\\nn\\modules\\module.py\u001b[0m in \u001b[0;36m__call__\u001b[1;34m(self, *input, **kwargs)\u001b[0m\n\u001b[0;32m    530\u001b[0m             \u001b[0mresult\u001b[0m \u001b[1;33m=\u001b[0m \u001b[0mself\u001b[0m\u001b[1;33m.\u001b[0m\u001b[0m_slow_forward\u001b[0m\u001b[1;33m(\u001b[0m\u001b[1;33m*\u001b[0m\u001b[0minput\u001b[0m\u001b[1;33m,\u001b[0m \u001b[1;33m**\u001b[0m\u001b[0mkwargs\u001b[0m\u001b[1;33m)\u001b[0m\u001b[1;33m\u001b[0m\u001b[1;33m\u001b[0m\u001b[0m\n\u001b[0;32m    531\u001b[0m         \u001b[1;32melse\u001b[0m\u001b[1;33m:\u001b[0m\u001b[1;33m\u001b[0m\u001b[1;33m\u001b[0m\u001b[0m\n\u001b[1;32m--> 532\u001b[1;33m             \u001b[0mresult\u001b[0m \u001b[1;33m=\u001b[0m \u001b[0mself\u001b[0m\u001b[1;33m.\u001b[0m\u001b[0mforward\u001b[0m\u001b[1;33m(\u001b[0m\u001b[1;33m*\u001b[0m\u001b[0minput\u001b[0m\u001b[1;33m,\u001b[0m \u001b[1;33m**\u001b[0m\u001b[0mkwargs\u001b[0m\u001b[1;33m)\u001b[0m\u001b[1;33m\u001b[0m\u001b[1;33m\u001b[0m\u001b[0m\n\u001b[0m\u001b[0;32m    533\u001b[0m         \u001b[1;32mfor\u001b[0m \u001b[0mhook\u001b[0m \u001b[1;32min\u001b[0m \u001b[0mself\u001b[0m\u001b[1;33m.\u001b[0m\u001b[0m_forward_hooks\u001b[0m\u001b[1;33m.\u001b[0m\u001b[0mvalues\u001b[0m\u001b[1;33m(\u001b[0m\u001b[1;33m)\u001b[0m\u001b[1;33m:\u001b[0m\u001b[1;33m\u001b[0m\u001b[1;33m\u001b[0m\u001b[0m\n\u001b[0;32m    534\u001b[0m             \u001b[0mhook_result\u001b[0m \u001b[1;33m=\u001b[0m \u001b[0mhook\u001b[0m\u001b[1;33m(\u001b[0m\u001b[0mself\u001b[0m\u001b[1;33m,\u001b[0m \u001b[0minput\u001b[0m\u001b[1;33m,\u001b[0m \u001b[0mresult\u001b[0m\u001b[1;33m)\u001b[0m\u001b[1;33m\u001b[0m\u001b[1;33m\u001b[0m\u001b[0m\n",
      "\u001b[1;32m<ipython-input-17-4343c3463994>\u001b[0m in \u001b[0;36mforward\u001b[1;34m(self, x)\u001b[0m\n\u001b[0;32m     25\u001b[0m         \u001b[0mself\u001b[0m\u001b[1;33m.\u001b[0m\u001b[0mlayer3\u001b[0m \u001b[1;33m=\u001b[0m \u001b[0mnn\u001b[0m\u001b[1;33m.\u001b[0m\u001b[0mSequential\u001b[0m\u001b[1;33m(\u001b[0m\u001b[0mnn\u001b[0m\u001b[1;33m.\u001b[0m\u001b[0mLinear\u001b[0m\u001b[1;33m(\u001b[0m\u001b[0mhidden2_dim\u001b[0m\u001b[1;33m,\u001b[0m \u001b[0mout_dim\u001b[0m\u001b[1;33m)\u001b[0m\u001b[1;33m)\u001b[0m\u001b[1;33m\u001b[0m\u001b[1;33m\u001b[0m\u001b[0m\n\u001b[0;32m     26\u001b[0m     \u001b[1;32mdef\u001b[0m \u001b[0mforward\u001b[0m\u001b[1;33m(\u001b[0m\u001b[0mself\u001b[0m\u001b[1;33m,\u001b[0m \u001b[0mx\u001b[0m\u001b[1;33m)\u001b[0m\u001b[1;33m:\u001b[0m\u001b[1;33m\u001b[0m\u001b[1;33m\u001b[0m\u001b[0m\n\u001b[1;32m---> 27\u001b[1;33m         \u001b[0mx\u001b[0m \u001b[1;33m=\u001b[0m \u001b[0mself\u001b[0m\u001b[1;33m.\u001b[0m\u001b[0mlayer1\u001b[0m\u001b[1;33m(\u001b[0m\u001b[0mx\u001b[0m\u001b[1;33m)\u001b[0m\u001b[1;33m\u001b[0m\u001b[1;33m\u001b[0m\u001b[0m\n\u001b[0m\u001b[0;32m     28\u001b[0m         \u001b[0mx\u001b[0m \u001b[1;33m=\u001b[0m \u001b[0mself\u001b[0m\u001b[1;33m.\u001b[0m\u001b[0mlayer2\u001b[0m\u001b[1;33m(\u001b[0m\u001b[0mx\u001b[0m\u001b[1;33m)\u001b[0m\u001b[1;33m\u001b[0m\u001b[1;33m\u001b[0m\u001b[0m\n\u001b[0;32m     29\u001b[0m         \u001b[0mx\u001b[0m \u001b[1;33m=\u001b[0m \u001b[0mself\u001b[0m\u001b[1;33m.\u001b[0m\u001b[0mlayer3\u001b[0m\u001b[1;33m(\u001b[0m\u001b[0mx\u001b[0m\u001b[1;33m)\u001b[0m\u001b[1;33m\u001b[0m\u001b[1;33m\u001b[0m\u001b[0m\n",
      "\u001b[1;32m~\\anaconda3\\lib\\site-packages\\torch\\nn\\modules\\module.py\u001b[0m in \u001b[0;36m__call__\u001b[1;34m(self, *input, **kwargs)\u001b[0m\n\u001b[0;32m    530\u001b[0m             \u001b[0mresult\u001b[0m \u001b[1;33m=\u001b[0m \u001b[0mself\u001b[0m\u001b[1;33m.\u001b[0m\u001b[0m_slow_forward\u001b[0m\u001b[1;33m(\u001b[0m\u001b[1;33m*\u001b[0m\u001b[0minput\u001b[0m\u001b[1;33m,\u001b[0m \u001b[1;33m**\u001b[0m\u001b[0mkwargs\u001b[0m\u001b[1;33m)\u001b[0m\u001b[1;33m\u001b[0m\u001b[1;33m\u001b[0m\u001b[0m\n\u001b[0;32m    531\u001b[0m         \u001b[1;32melse\u001b[0m\u001b[1;33m:\u001b[0m\u001b[1;33m\u001b[0m\u001b[1;33m\u001b[0m\u001b[0m\n\u001b[1;32m--> 532\u001b[1;33m             \u001b[0mresult\u001b[0m \u001b[1;33m=\u001b[0m \u001b[0mself\u001b[0m\u001b[1;33m.\u001b[0m\u001b[0mforward\u001b[0m\u001b[1;33m(\u001b[0m\u001b[1;33m*\u001b[0m\u001b[0minput\u001b[0m\u001b[1;33m,\u001b[0m \u001b[1;33m**\u001b[0m\u001b[0mkwargs\u001b[0m\u001b[1;33m)\u001b[0m\u001b[1;33m\u001b[0m\u001b[1;33m\u001b[0m\u001b[0m\n\u001b[0m\u001b[0;32m    533\u001b[0m         \u001b[1;32mfor\u001b[0m \u001b[0mhook\u001b[0m \u001b[1;32min\u001b[0m \u001b[0mself\u001b[0m\u001b[1;33m.\u001b[0m\u001b[0m_forward_hooks\u001b[0m\u001b[1;33m.\u001b[0m\u001b[0mvalues\u001b[0m\u001b[1;33m(\u001b[0m\u001b[1;33m)\u001b[0m\u001b[1;33m:\u001b[0m\u001b[1;33m\u001b[0m\u001b[1;33m\u001b[0m\u001b[0m\n\u001b[0;32m    534\u001b[0m             \u001b[0mhook_result\u001b[0m \u001b[1;33m=\u001b[0m \u001b[0mhook\u001b[0m\u001b[1;33m(\u001b[0m\u001b[0mself\u001b[0m\u001b[1;33m,\u001b[0m \u001b[0minput\u001b[0m\u001b[1;33m,\u001b[0m \u001b[0mresult\u001b[0m\u001b[1;33m)\u001b[0m\u001b[1;33m\u001b[0m\u001b[1;33m\u001b[0m\u001b[0m\n",
      "\u001b[1;32m~\\anaconda3\\lib\\site-packages\\torch\\nn\\modules\\container.py\u001b[0m in \u001b[0;36mforward\u001b[1;34m(self, input)\u001b[0m\n\u001b[0;32m     98\u001b[0m     \u001b[1;32mdef\u001b[0m \u001b[0mforward\u001b[0m\u001b[1;33m(\u001b[0m\u001b[0mself\u001b[0m\u001b[1;33m,\u001b[0m \u001b[0minput\u001b[0m\u001b[1;33m)\u001b[0m\u001b[1;33m:\u001b[0m\u001b[1;33m\u001b[0m\u001b[1;33m\u001b[0m\u001b[0m\n\u001b[0;32m     99\u001b[0m         \u001b[1;32mfor\u001b[0m \u001b[0mmodule\u001b[0m \u001b[1;32min\u001b[0m \u001b[0mself\u001b[0m\u001b[1;33m:\u001b[0m\u001b[1;33m\u001b[0m\u001b[1;33m\u001b[0m\u001b[0m\n\u001b[1;32m--> 100\u001b[1;33m             \u001b[0minput\u001b[0m \u001b[1;33m=\u001b[0m \u001b[0mmodule\u001b[0m\u001b[1;33m(\u001b[0m\u001b[0minput\u001b[0m\u001b[1;33m)\u001b[0m\u001b[1;33m\u001b[0m\u001b[1;33m\u001b[0m\u001b[0m\n\u001b[0m\u001b[0;32m    101\u001b[0m         \u001b[1;32mreturn\u001b[0m \u001b[0minput\u001b[0m\u001b[1;33m\u001b[0m\u001b[1;33m\u001b[0m\u001b[0m\n\u001b[0;32m    102\u001b[0m \u001b[1;33m\u001b[0m\u001b[0m\n",
      "\u001b[1;32m~\\anaconda3\\lib\\site-packages\\torch\\nn\\modules\\module.py\u001b[0m in \u001b[0;36m__call__\u001b[1;34m(self, *input, **kwargs)\u001b[0m\n\u001b[0;32m    530\u001b[0m             \u001b[0mresult\u001b[0m \u001b[1;33m=\u001b[0m \u001b[0mself\u001b[0m\u001b[1;33m.\u001b[0m\u001b[0m_slow_forward\u001b[0m\u001b[1;33m(\u001b[0m\u001b[1;33m*\u001b[0m\u001b[0minput\u001b[0m\u001b[1;33m,\u001b[0m \u001b[1;33m**\u001b[0m\u001b[0mkwargs\u001b[0m\u001b[1;33m)\u001b[0m\u001b[1;33m\u001b[0m\u001b[1;33m\u001b[0m\u001b[0m\n\u001b[0;32m    531\u001b[0m         \u001b[1;32melse\u001b[0m\u001b[1;33m:\u001b[0m\u001b[1;33m\u001b[0m\u001b[1;33m\u001b[0m\u001b[0m\n\u001b[1;32m--> 532\u001b[1;33m             \u001b[0mresult\u001b[0m \u001b[1;33m=\u001b[0m \u001b[0mself\u001b[0m\u001b[1;33m.\u001b[0m\u001b[0mforward\u001b[0m\u001b[1;33m(\u001b[0m\u001b[1;33m*\u001b[0m\u001b[0minput\u001b[0m\u001b[1;33m,\u001b[0m \u001b[1;33m**\u001b[0m\u001b[0mkwargs\u001b[0m\u001b[1;33m)\u001b[0m\u001b[1;33m\u001b[0m\u001b[1;33m\u001b[0m\u001b[0m\n\u001b[0m\u001b[0;32m    533\u001b[0m         \u001b[1;32mfor\u001b[0m \u001b[0mhook\u001b[0m \u001b[1;32min\u001b[0m \u001b[0mself\u001b[0m\u001b[1;33m.\u001b[0m\u001b[0m_forward_hooks\u001b[0m\u001b[1;33m.\u001b[0m\u001b[0mvalues\u001b[0m\u001b[1;33m(\u001b[0m\u001b[1;33m)\u001b[0m\u001b[1;33m:\u001b[0m\u001b[1;33m\u001b[0m\u001b[1;33m\u001b[0m\u001b[0m\n\u001b[0;32m    534\u001b[0m             \u001b[0mhook_result\u001b[0m \u001b[1;33m=\u001b[0m \u001b[0mhook\u001b[0m\u001b[1;33m(\u001b[0m\u001b[0mself\u001b[0m\u001b[1;33m,\u001b[0m \u001b[0minput\u001b[0m\u001b[1;33m,\u001b[0m \u001b[0mresult\u001b[0m\u001b[1;33m)\u001b[0m\u001b[1;33m\u001b[0m\u001b[1;33m\u001b[0m\u001b[0m\n",
      "\u001b[1;32m~\\anaconda3\\lib\\site-packages\\torch\\nn\\modules\\linear.py\u001b[0m in \u001b[0;36mforward\u001b[1;34m(self, input)\u001b[0m\n\u001b[0;32m     85\u001b[0m \u001b[1;33m\u001b[0m\u001b[0m\n\u001b[0;32m     86\u001b[0m     \u001b[1;32mdef\u001b[0m \u001b[0mforward\u001b[0m\u001b[1;33m(\u001b[0m\u001b[0mself\u001b[0m\u001b[1;33m,\u001b[0m \u001b[0minput\u001b[0m\u001b[1;33m)\u001b[0m\u001b[1;33m:\u001b[0m\u001b[1;33m\u001b[0m\u001b[1;33m\u001b[0m\u001b[0m\n\u001b[1;32m---> 87\u001b[1;33m         \u001b[1;32mreturn\u001b[0m \u001b[0mF\u001b[0m\u001b[1;33m.\u001b[0m\u001b[0mlinear\u001b[0m\u001b[1;33m(\u001b[0m\u001b[0minput\u001b[0m\u001b[1;33m,\u001b[0m \u001b[0mself\u001b[0m\u001b[1;33m.\u001b[0m\u001b[0mweight\u001b[0m\u001b[1;33m,\u001b[0m \u001b[0mself\u001b[0m\u001b[1;33m.\u001b[0m\u001b[0mbias\u001b[0m\u001b[1;33m)\u001b[0m\u001b[1;33m\u001b[0m\u001b[1;33m\u001b[0m\u001b[0m\n\u001b[0m\u001b[0;32m     88\u001b[0m \u001b[1;33m\u001b[0m\u001b[0m\n\u001b[0;32m     89\u001b[0m     \u001b[1;32mdef\u001b[0m \u001b[0mextra_repr\u001b[0m\u001b[1;33m(\u001b[0m\u001b[0mself\u001b[0m\u001b[1;33m)\u001b[0m\u001b[1;33m:\u001b[0m\u001b[1;33m\u001b[0m\u001b[1;33m\u001b[0m\u001b[0m\n",
      "\u001b[1;32m~\\anaconda3\\lib\\site-packages\\torch\\nn\\functional.py\u001b[0m in \u001b[0;36mlinear\u001b[1;34m(input, weight, bias)\u001b[0m\n\u001b[0;32m   1368\u001b[0m     \u001b[1;32mif\u001b[0m \u001b[0minput\u001b[0m\u001b[1;33m.\u001b[0m\u001b[0mdim\u001b[0m\u001b[1;33m(\u001b[0m\u001b[1;33m)\u001b[0m \u001b[1;33m==\u001b[0m \u001b[1;36m2\u001b[0m \u001b[1;32mand\u001b[0m \u001b[0mbias\u001b[0m \u001b[1;32mis\u001b[0m \u001b[1;32mnot\u001b[0m \u001b[1;32mNone\u001b[0m\u001b[1;33m:\u001b[0m\u001b[1;33m\u001b[0m\u001b[1;33m\u001b[0m\u001b[0m\n\u001b[0;32m   1369\u001b[0m         \u001b[1;31m# fused op is marginally faster\u001b[0m\u001b[1;33m\u001b[0m\u001b[1;33m\u001b[0m\u001b[1;33m\u001b[0m\u001b[0m\n\u001b[1;32m-> 1370\u001b[1;33m         \u001b[0mret\u001b[0m \u001b[1;33m=\u001b[0m \u001b[0mtorch\u001b[0m\u001b[1;33m.\u001b[0m\u001b[0maddmm\u001b[0m\u001b[1;33m(\u001b[0m\u001b[0mbias\u001b[0m\u001b[1;33m,\u001b[0m \u001b[0minput\u001b[0m\u001b[1;33m,\u001b[0m \u001b[0mweight\u001b[0m\u001b[1;33m.\u001b[0m\u001b[0mt\u001b[0m\u001b[1;33m(\u001b[0m\u001b[1;33m)\u001b[0m\u001b[1;33m)\u001b[0m\u001b[1;33m\u001b[0m\u001b[1;33m\u001b[0m\u001b[0m\n\u001b[0m\u001b[0;32m   1371\u001b[0m     \u001b[1;32melse\u001b[0m\u001b[1;33m:\u001b[0m\u001b[1;33m\u001b[0m\u001b[1;33m\u001b[0m\u001b[0m\n\u001b[0;32m   1372\u001b[0m         \u001b[0moutput\u001b[0m \u001b[1;33m=\u001b[0m \u001b[0minput\u001b[0m\u001b[1;33m.\u001b[0m\u001b[0mmatmul\u001b[0m\u001b[1;33m(\u001b[0m\u001b[0mweight\u001b[0m\u001b[1;33m.\u001b[0m\u001b[0mt\u001b[0m\u001b[1;33m(\u001b[0m\u001b[1;33m)\u001b[0m\u001b[1;33m)\u001b[0m\u001b[1;33m\u001b[0m\u001b[1;33m\u001b[0m\u001b[0m\n",
      "\u001b[1;31mRuntimeError\u001b[0m: Expected object of device type cuda but got device type cpu for argument #2 'mat1' in call to _th_addmm"
     ]
    }
   ],
   "source": [
    "import torch\n",
    "from torch import optim, nn\n",
    "from torch.autograd import Variable\n",
    "from torch.utils.data import DataLoader\n",
    "from torchvision import datasets, transforms\n",
    "import numpy as np\n",
    "\n",
    "# 加载数据集\n",
    "def get_data():\n",
    "    # 定义数据预处理操作, transforms.Compose将各种预处理操作组合在一起\n",
    "    data_tf = transforms.Compose([transforms.ToTensor(), transforms.Normalize([0.5], [0.5])])\n",
    "    train_dataset = datasets.MNIST(root='./data', train=True, transform=data_tf, download=True)\n",
    "    test_dataset = datasets.MNIST(root='./data', train=False, transform=data_tf, download=True)\n",
    "\n",
    "    train_loader = DataLoader(train_dataset, batch_size=batch_size, shuffle=True, drop_last=True)\n",
    "    #test_loader = DataLoader(test_dataset, batch_size=batch_size, shuffle=False, drop_last=True)\n",
    "    return train_loader, test_dataset\n",
    "\n",
    "# 构建模型，三层神经网络\n",
    "class batch_net(nn.Module):\n",
    "    def __init__(self, in_dim, hidden1_dim, hidden2_dim, out_dim):\n",
    "        super(batch_net, self).__init__()\n",
    "        self.layer1 = nn.Sequential(nn.Linear(in_dim, hidden1_dim), nn.BatchNorm1d(hidden1_dim), nn.ReLU(True))\n",
    "        self.layer2 = nn.Sequential(nn.Linear(hidden1_dim, hidden2_dim), nn.BatchNorm1d(hidden2_dim), nn.ReLU(True))\n",
    "        self.layer3 = nn.Sequential(nn.Linear(hidden2_dim, out_dim))\n",
    "    def forward(self, x):\n",
    "        x = self.layer1(x)\n",
    "        x = self.layer2(x)\n",
    "        x = self.layer3(x)\n",
    "        return x\n",
    "\n",
    "\n",
    "\n",
    "if __name__ == \"__main__\":\n",
    "    # 超参数配置\n",
    "    batch_size = 64\n",
    "    learning_rate = 1e-2\n",
    "    num_epoches = 5\n",
    "    # 加载数据集\n",
    "    train_dataset, test_dataset = get_data()\n",
    "    # 导入网络，并定义损失函数和优化器\n",
    "    model = batch_net(28*28, 300, 100, 10)\n",
    "    if torch.cuda.is_available():\n",
    "        model = model.cuda()\n",
    "    criterion = nn.CrossEntropyLoss()\n",
    "    opitimizer = optim.SGD(model.parameters(), lr=learning_rate)\n",
    "    # 开始训练\n",
    "    for i in range(num_epoches):\n",
    "        for img, label in train_dataset:\n",
    "            img = img.view(64, -1)\n",
    "            img = Variable(img)\n",
    "            #print(img.size())\n",
    "            label = Variable(label)\n",
    "            # forward\n",
    "            out = model(img)\n",
    "            loss = criterion(out, label)\n",
    "            # backward\n",
    "            opitimizer.zero_grad()\n",
    "            loss.backward()\n",
    "            opitimizer.step()\n",
    "            # 打印\n",
    "            print(\"epoches= {},loss is {}\".format(i, loss))\n",
    "    # 测试\n",
    "    model.eval()\n",
    "    count = 0\n",
    "    for data in test_dataset:\n",
    "        img, label = data\n",
    "        img = img.view(img.size(0), -1)\n",
    "        img = Variable(img, volatile=True)\n",
    "        #label = Variable(label, volatile=True)\n",
    "        out = model(img)\n",
    "        _, predict = torch.max(out, 1)\n",
    "        if predict == label:\n",
    "            count += 1\n",
    "    print(\"acc = {}\".format(count/len(test_dataset)))"
   ]
  }
 ],
 "metadata": {
  "kernelspec": {
   "display_name": "Python 3",
   "language": "python",
   "name": "python3"
  },
  "language_info": {
   "codemirror_mode": {
    "name": "ipython",
    "version": 3
   },
   "file_extension": ".py",
   "mimetype": "text/x-python",
   "name": "python",
   "nbconvert_exporter": "python",
   "pygments_lexer": "ipython3",
   "version": "3.7.6"
  }
 },
 "nbformat": 4,
 "nbformat_minor": 4
}
